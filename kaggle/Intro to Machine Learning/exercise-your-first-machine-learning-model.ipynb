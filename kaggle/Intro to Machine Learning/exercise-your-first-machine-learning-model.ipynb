{
 "cells": [
  {
   "cell_type": "markdown",
   "id": "2facd178",
   "metadata": {
    "papermill": {
     "duration": 0.00735,
     "end_time": "2023-05-20T16:07:11.828238",
     "exception": false,
     "start_time": "2023-05-20T16:07:11.820888",
     "status": "completed"
    },
    "tags": []
   },
   "source": [
    "**This notebook is an exercise in the [Introduction to Machine Learning](https://www.kaggle.com/learn/intro-to-machine-learning) course.  You can reference the tutorial at [this link](https://www.kaggle.com/dansbecker/your-first-machine-learning-model).**\n",
    "\n",
    "---\n"
   ]
  },
  {
   "cell_type": "markdown",
   "id": "f2d4989f",
   "metadata": {
    "papermill": {
     "duration": 0.006875,
     "end_time": "2023-05-20T16:07:11.842257",
     "exception": false,
     "start_time": "2023-05-20T16:07:11.835382",
     "status": "completed"
    },
    "tags": []
   },
   "source": [
    "## Recap\n",
    "So far, you have loaded your data and reviewed it with the following code. Run this cell to set up your coding environment where the previous step left off."
   ]
  },
  {
   "cell_type": "code",
   "execution_count": 1,
   "id": "1491cfb9",
   "metadata": {
    "execution": {
     "iopub.execute_input": "2023-05-20T16:07:11.859865Z",
     "iopub.status.busy": "2023-05-20T16:07:11.858907Z",
     "iopub.status.idle": "2023-05-20T16:07:13.388685Z",
     "shell.execute_reply": "2023-05-20T16:07:13.387151Z"
    },
    "papermill": {
     "duration": 1.542569,
     "end_time": "2023-05-20T16:07:13.391396",
     "exception": false,
     "start_time": "2023-05-20T16:07:11.848827",
     "status": "completed"
    },
    "tags": []
   },
   "outputs": [
    {
     "name": "stderr",
     "output_type": "stream",
     "text": [
      "/opt/conda/lib/python3.10/site-packages/scipy/__init__.py:146: UserWarning: A NumPy version >=1.16.5 and <1.23.0 is required for this version of SciPy (detected version 1.23.5\n",
      "  warnings.warn(f\"A NumPy version >={np_minversion} and <{np_maxversion}\"\n"
     ]
    },
    {
     "name": "stdout",
     "output_type": "stream",
     "text": [
      "Setup Complete\n"
     ]
    }
   ],
   "source": [
    "# Code you have previously used to load data\n",
    "import pandas as pd\n",
    "\n",
    "# Path of the file to read\n",
    "iowa_file_path = '../input/home-data-for-ml-course/train.csv'\n",
    "\n",
    "home_data = pd.read_csv(iowa_file_path)\n",
    "\n",
    "# Set up code checking\n",
    "from learntools.core import binder\n",
    "binder.bind(globals())\n",
    "from learntools.machine_learning.ex3 import *\n",
    "\n",
    "print(\"Setup Complete\")"
   ]
  },
  {
   "cell_type": "markdown",
   "id": "7fe8b12d",
   "metadata": {
    "papermill": {
     "duration": 0.006902,
     "end_time": "2023-05-20T16:07:13.405158",
     "exception": false,
     "start_time": "2023-05-20T16:07:13.398256",
     "status": "completed"
    },
    "tags": []
   },
   "source": [
    "# Exercises\n",
    "\n",
    "## Step 1: Specify Prediction Target\n",
    "Select the target variable, which corresponds to the sales price. Save this to a new variable called `y`. You'll need to print a list of the columns to find the name of the column you need.\n"
   ]
  },
  {
   "cell_type": "code",
   "execution_count": 2,
   "id": "6f7c4431",
   "metadata": {
    "execution": {
     "iopub.execute_input": "2023-05-20T16:07:13.420977Z",
     "iopub.status.busy": "2023-05-20T16:07:13.420272Z",
     "iopub.status.idle": "2023-05-20T16:07:13.428953Z",
     "shell.execute_reply": "2023-05-20T16:07:13.427830Z"
    },
    "papermill": {
     "duration": 0.019163,
     "end_time": "2023-05-20T16:07:13.431164",
     "exception": false,
     "start_time": "2023-05-20T16:07:13.412001",
     "status": "completed"
    },
    "tags": []
   },
   "outputs": [
    {
     "data": {
      "text/plain": [
       "Index(['Id', 'MSSubClass', 'MSZoning', 'LotFrontage', 'LotArea', 'Street',\n",
       "       'Alley', 'LotShape', 'LandContour', 'Utilities', 'LotConfig',\n",
       "       'LandSlope', 'Neighborhood', 'Condition1', 'Condition2', 'BldgType',\n",
       "       'HouseStyle', 'OverallQual', 'OverallCond', 'YearBuilt', 'YearRemodAdd',\n",
       "       'RoofStyle', 'RoofMatl', 'Exterior1st', 'Exterior2nd', 'MasVnrType',\n",
       "       'MasVnrArea', 'ExterQual', 'ExterCond', 'Foundation', 'BsmtQual',\n",
       "       'BsmtCond', 'BsmtExposure', 'BsmtFinType1', 'BsmtFinSF1',\n",
       "       'BsmtFinType2', 'BsmtFinSF2', 'BsmtUnfSF', 'TotalBsmtSF', 'Heating',\n",
       "       'HeatingQC', 'CentralAir', 'Electrical', '1stFlrSF', '2ndFlrSF',\n",
       "       'LowQualFinSF', 'GrLivArea', 'BsmtFullBath', 'BsmtHalfBath', 'FullBath',\n",
       "       'HalfBath', 'BedroomAbvGr', 'KitchenAbvGr', 'KitchenQual',\n",
       "       'TotRmsAbvGrd', 'Functional', 'Fireplaces', 'FireplaceQu', 'GarageType',\n",
       "       'GarageYrBlt', 'GarageFinish', 'GarageCars', 'GarageArea', 'GarageQual',\n",
       "       'GarageCond', 'PavedDrive', 'WoodDeckSF', 'OpenPorchSF',\n",
       "       'EnclosedPorch', '3SsnPorch', 'ScreenPorch', 'PoolArea', 'PoolQC',\n",
       "       'Fence', 'MiscFeature', 'MiscVal', 'MoSold', 'YrSold', 'SaleType',\n",
       "       'SaleCondition', 'SalePrice'],\n",
       "      dtype='object')"
      ]
     },
     "execution_count": 2,
     "metadata": {},
     "output_type": "execute_result"
    }
   ],
   "source": [
    "# print the list of columns in the dataset to find the name of the prediction target\n",
    "home_data.columns"
   ]
  },
  {
   "cell_type": "code",
   "execution_count": 3,
   "id": "08724dbb",
   "metadata": {
    "execution": {
     "iopub.execute_input": "2023-05-20T16:07:13.447441Z",
     "iopub.status.busy": "2023-05-20T16:07:13.446764Z",
     "iopub.status.idle": "2023-05-20T16:07:13.462865Z",
     "shell.execute_reply": "2023-05-20T16:07:13.461836Z"
    },
    "papermill": {
     "duration": 0.027147,
     "end_time": "2023-05-20T16:07:13.465183",
     "exception": false,
     "start_time": "2023-05-20T16:07:13.438036",
     "status": "completed"
    },
    "tags": []
   },
   "outputs": [
    {
     "data": {
      "application/javascript": [
       "parent.postMessage({\"jupyterEvent\": \"custom.exercise_interaction\", \"data\": {\"outcomeType\": 1, \"valueTowardsCompletion\": 0.25, \"interactionType\": 1, \"questionType\": 2, \"questionId\": \"1_SetTarget\", \"learnToolsVersion\": \"0.3.4\", \"failureMessage\": \"\", \"exceptionClass\": \"\", \"trace\": \"\"}}, \"*\")"
      ],
      "text/plain": [
       "<IPython.core.display.Javascript object>"
      ]
     },
     "metadata": {},
     "output_type": "display_data"
    },
    {
     "data": {
      "text/markdown": [
       "<span style=\"color:#33cc33\">Correct</span>"
      ],
      "text/plain": [
       "Correct"
      ]
     },
     "metadata": {},
     "output_type": "display_data"
    }
   ],
   "source": [
    "y =  home_data.SalePrice\n",
    "\n",
    "# Check your answer\n",
    "step_1.check()"
   ]
  },
  {
   "cell_type": "code",
   "execution_count": 4,
   "id": "ba1940ff",
   "metadata": {
    "execution": {
     "iopub.execute_input": "2023-05-20T16:07:13.481194Z",
     "iopub.status.busy": "2023-05-20T16:07:13.480798Z",
     "iopub.status.idle": "2023-05-20T16:07:13.485250Z",
     "shell.execute_reply": "2023-05-20T16:07:13.484201Z"
    },
    "papermill": {
     "duration": 0.015055,
     "end_time": "2023-05-20T16:07:13.487462",
     "exception": false,
     "start_time": "2023-05-20T16:07:13.472407",
     "status": "completed"
    },
    "tags": []
   },
   "outputs": [],
   "source": [
    "# The lines below will show you a hint or the solution.\n",
    "#step_1.hint() \n",
    "#step_1.solution()"
   ]
  },
  {
   "cell_type": "markdown",
   "id": "e69de450",
   "metadata": {
    "papermill": {
     "duration": 0.006918,
     "end_time": "2023-05-20T16:07:13.501984",
     "exception": false,
     "start_time": "2023-05-20T16:07:13.495066",
     "status": "completed"
    },
    "tags": []
   },
   "source": [
    "## Step 2: Create X\n",
    "Now you will create a DataFrame called `X` holding the predictive features.\n",
    "\n",
    "Since you want only some columns from the original data, you'll first create a list with the names of the columns you want in `X`.\n",
    "\n",
    "You'll use just the following columns in the list (you can copy and paste the whole list to save some typing, though you'll still need to add quotes):\n",
    "  * LotArea\n",
    "  * YearBuilt\n",
    "  * 1stFlrSF\n",
    "  * 2ndFlrSF\n",
    "  * FullBath\n",
    "  * BedroomAbvGr\n",
    "  * TotRmsAbvGrd\n",
    "\n",
    "After you've created that list of features, use it to create the DataFrame that you'll use to fit the model."
   ]
  },
  {
   "cell_type": "code",
   "execution_count": 5,
   "id": "0311d698",
   "metadata": {
    "execution": {
     "iopub.execute_input": "2023-05-20T16:07:13.518017Z",
     "iopub.status.busy": "2023-05-20T16:07:13.517589Z",
     "iopub.status.idle": "2023-05-20T16:07:13.534036Z",
     "shell.execute_reply": "2023-05-20T16:07:13.532976Z"
    },
    "papermill": {
     "duration": 0.02712,
     "end_time": "2023-05-20T16:07:13.536226",
     "exception": false,
     "start_time": "2023-05-20T16:07:13.509106",
     "status": "completed"
    },
    "tags": []
   },
   "outputs": [
    {
     "data": {
      "application/javascript": [
       "parent.postMessage({\"jupyterEvent\": \"custom.exercise_interaction\", \"data\": {\"outcomeType\": 1, \"valueTowardsCompletion\": 0.25, \"interactionType\": 1, \"questionType\": 2, \"questionId\": \"2_SelectPredictionData\", \"learnToolsVersion\": \"0.3.4\", \"failureMessage\": \"\", \"exceptionClass\": \"\", \"trace\": \"\"}}, \"*\")"
      ],
      "text/plain": [
       "<IPython.core.display.Javascript object>"
      ]
     },
     "metadata": {},
     "output_type": "display_data"
    },
    {
     "data": {
      "text/markdown": [
       "<span style=\"color:#33cc33\">Correct</span>"
      ],
      "text/plain": [
       "Correct"
      ]
     },
     "metadata": {},
     "output_type": "display_data"
    }
   ],
   "source": [
    "# Create the list of features below\n",
    "feature_names = [\"LotArea\",\"YearBuilt\",\"1stFlrSF\",\"2ndFlrSF\"\n",
    ",\"FullBath\"\n",
    ",\"BedroomAbvGr\"\n",
    ",\"TotRmsAbvGrd\"]\n",
    "\n",
    "# Select data corresponding to features in feature_names\n",
    "X = home_data[feature_names]\n",
    "\n",
    "# Check your answer\n",
    "step_2.check()"
   ]
  },
  {
   "cell_type": "code",
   "execution_count": 6,
   "id": "c8ed7a41",
   "metadata": {
    "execution": {
     "iopub.execute_input": "2023-05-20T16:07:13.553298Z",
     "iopub.status.busy": "2023-05-20T16:07:13.552608Z",
     "iopub.status.idle": "2023-05-20T16:07:13.557646Z",
     "shell.execute_reply": "2023-05-20T16:07:13.556320Z"
    },
    "papermill": {
     "duration": 0.016566,
     "end_time": "2023-05-20T16:07:13.560195",
     "exception": false,
     "start_time": "2023-05-20T16:07:13.543629",
     "status": "completed"
    },
    "tags": []
   },
   "outputs": [],
   "source": [
    "# step_2.hint()\n",
    "# step_2.solution()"
   ]
  },
  {
   "cell_type": "markdown",
   "id": "58fdd9f0",
   "metadata": {
    "papermill": {
     "duration": 0.00783,
     "end_time": "2023-05-20T16:07:13.575770",
     "exception": false,
     "start_time": "2023-05-20T16:07:13.567940",
     "status": "completed"
    },
    "tags": []
   },
   "source": [
    "## Review Data\n",
    "Before building a model, take a quick look at **X** to verify it looks sensible"
   ]
  },
  {
   "cell_type": "code",
   "execution_count": 7,
   "id": "694f08e1",
   "metadata": {
    "execution": {
     "iopub.execute_input": "2023-05-20T16:07:13.593362Z",
     "iopub.status.busy": "2023-05-20T16:07:13.592241Z",
     "iopub.status.idle": "2023-05-20T16:07:13.605997Z",
     "shell.execute_reply": "2023-05-20T16:07:13.604586Z"
    },
    "papermill": {
     "duration": 0.025165,
     "end_time": "2023-05-20T16:07:13.608525",
     "exception": false,
     "start_time": "2023-05-20T16:07:13.583360",
     "status": "completed"
    },
    "tags": []
   },
   "outputs": [
    {
     "name": "stdout",
     "output_type": "stream",
     "text": [
      "   LotArea  YearBuilt  1stFlrSF  2ndFlrSF  FullBath  BedroomAbvGr  \\\n",
      "0     8450       2003       856       854         2             3   \n",
      "1     9600       1976      1262         0         2             3   \n",
      "2    11250       2001       920       866         2             3   \n",
      "3     9550       1915       961       756         1             3   \n",
      "4    14260       2000      1145      1053         2             4   \n",
      "\n",
      "   TotRmsAbvGrd  \n",
      "0             8  \n",
      "1             6  \n",
      "2             6  \n",
      "3             7  \n",
      "4             9  \n"
     ]
    }
   ],
   "source": [
    "# Review data\n",
    "\n",
    "# print description or statistics from X\n",
    "X.describe\n",
    "\n",
    "# print the top few lines\n",
    "print(X.head())"
   ]
  },
  {
   "cell_type": "markdown",
   "id": "063307d5",
   "metadata": {
    "papermill": {
     "duration": 0.007505,
     "end_time": "2023-05-20T16:07:13.623799",
     "exception": false,
     "start_time": "2023-05-20T16:07:13.616294",
     "status": "completed"
    },
    "tags": []
   },
   "source": [
    "## Step 3: Specify and Fit Model\n",
    "Create a `DecisionTreeRegressor` and save it iowa_model. Ensure you've done the relevant import from sklearn to run this command.\n",
    "\n",
    "Then fit the model you just created using the data in `X` and `y` that you saved above."
   ]
  },
  {
   "cell_type": "code",
   "execution_count": 8,
   "id": "286afb6c",
   "metadata": {
    "execution": {
     "iopub.execute_input": "2023-05-20T16:07:13.641289Z",
     "iopub.status.busy": "2023-05-20T16:07:13.640888Z",
     "iopub.status.idle": "2023-05-20T16:07:13.662956Z",
     "shell.execute_reply": "2023-05-20T16:07:13.661986Z"
    },
    "papermill": {
     "duration": 0.033561,
     "end_time": "2023-05-20T16:07:13.665094",
     "exception": false,
     "start_time": "2023-05-20T16:07:13.631533",
     "status": "completed"
    },
    "tags": []
   },
   "outputs": [
    {
     "data": {
      "application/javascript": [
       "parent.postMessage({\"jupyterEvent\": \"custom.exercise_interaction\", \"data\": {\"outcomeType\": 1, \"valueTowardsCompletion\": 0.25, \"interactionType\": 1, \"questionType\": 2, \"questionId\": \"3_CreateModel\", \"learnToolsVersion\": \"0.3.4\", \"failureMessage\": \"\", \"exceptionClass\": \"\", \"trace\": \"\"}}, \"*\")"
      ],
      "text/plain": [
       "<IPython.core.display.Javascript object>"
      ]
     },
     "metadata": {},
     "output_type": "display_data"
    },
    {
     "data": {
      "text/markdown": [
       "<span style=\"color:#33cc33\">Correct</span>"
      ],
      "text/plain": [
       "Correct"
      ]
     },
     "metadata": {},
     "output_type": "display_data"
    }
   ],
   "source": [
    "from sklearn.tree import DecisionTreeRegressor\n",
    "#specify the model. \n",
    "#For model reproducibility, set a numeric value for random_state when specifying the model\n",
    "iowa_model =DecisionTreeRegressor(random_state=1)\n",
    "\n",
    "# Fit the model\n",
    "iowa_model.fit(X,y)\n",
    "\n",
    "# Check your answer\n",
    "step_3.check()"
   ]
  },
  {
   "cell_type": "code",
   "execution_count": 9,
   "id": "8fe81cbc",
   "metadata": {
    "collapsed": true,
    "execution": {
     "iopub.execute_input": "2023-05-20T16:07:13.683191Z",
     "iopub.status.busy": "2023-05-20T16:07:13.682548Z",
     "iopub.status.idle": "2023-05-20T16:07:13.687031Z",
     "shell.execute_reply": "2023-05-20T16:07:13.686011Z"
    },
    "jupyter": {
     "outputs_hidden": true
    },
    "papermill": {
     "duration": 0.016425,
     "end_time": "2023-05-20T16:07:13.689432",
     "exception": false,
     "start_time": "2023-05-20T16:07:13.673007",
     "status": "completed"
    },
    "tags": []
   },
   "outputs": [],
   "source": [
    "# step_3.hint()\n",
    "# step_3.solution()"
   ]
  },
  {
   "cell_type": "markdown",
   "id": "f933507d",
   "metadata": {
    "papermill": {
     "duration": 0.007684,
     "end_time": "2023-05-20T16:07:13.705180",
     "exception": false,
     "start_time": "2023-05-20T16:07:13.697496",
     "status": "completed"
    },
    "tags": []
   },
   "source": [
    "## Step 4: Make Predictions\n",
    "Make predictions with the model's `predict` command using `X` as the data. Save the results to a variable called `predictions`."
   ]
  },
  {
   "cell_type": "code",
   "execution_count": 10,
   "id": "507050ba",
   "metadata": {
    "execution": {
     "iopub.execute_input": "2023-05-20T16:07:13.723084Z",
     "iopub.status.busy": "2023-05-20T16:07:13.722659Z",
     "iopub.status.idle": "2023-05-20T16:07:13.736547Z",
     "shell.execute_reply": "2023-05-20T16:07:13.735603Z"
    },
    "papermill": {
     "duration": 0.025568,
     "end_time": "2023-05-20T16:07:13.738696",
     "exception": false,
     "start_time": "2023-05-20T16:07:13.713128",
     "status": "completed"
    },
    "tags": []
   },
   "outputs": [
    {
     "name": "stdout",
     "output_type": "stream",
     "text": [
      "[208500. 181500. 223500. ... 266500. 142125. 147500.]\n"
     ]
    },
    {
     "data": {
      "application/javascript": [
       "parent.postMessage({\"jupyterEvent\": \"custom.exercise_interaction\", \"data\": {\"outcomeType\": 1, \"valueTowardsCompletion\": 0.25, \"interactionType\": 1, \"questionType\": 2, \"questionId\": \"4_MakePredictions\", \"learnToolsVersion\": \"0.3.4\", \"failureMessage\": \"\", \"exceptionClass\": \"\", \"trace\": \"\"}}, \"*\")"
      ],
      "text/plain": [
       "<IPython.core.display.Javascript object>"
      ]
     },
     "metadata": {},
     "output_type": "display_data"
    },
    {
     "data": {
      "text/markdown": [
       "<span style=\"color:#33cc33\">Correct</span>"
      ],
      "text/plain": [
       "Correct"
      ]
     },
     "metadata": {},
     "output_type": "display_data"
    }
   ],
   "source": [
    "predictions = iowa_model.predict(X)\n",
    "print(predictions)\n",
    "\n",
    "# Check your answer\n",
    "step_4.check()"
   ]
  },
  {
   "cell_type": "code",
   "execution_count": 11,
   "id": "07ac8b41",
   "metadata": {
    "execution": {
     "iopub.execute_input": "2023-05-20T16:07:13.757158Z",
     "iopub.status.busy": "2023-05-20T16:07:13.756765Z",
     "iopub.status.idle": "2023-05-20T16:07:13.762453Z",
     "shell.execute_reply": "2023-05-20T16:07:13.761414Z"
    },
    "papermill": {
     "duration": 0.017691,
     "end_time": "2023-05-20T16:07:13.764795",
     "exception": false,
     "start_time": "2023-05-20T16:07:13.747104",
     "status": "completed"
    },
    "tags": []
   },
   "outputs": [],
   "source": [
    "# step_4.hint()\n",
    "# step_4.solution()"
   ]
  },
  {
   "cell_type": "markdown",
   "id": "df323a9f",
   "metadata": {
    "papermill": {
     "duration": 0.008193,
     "end_time": "2023-05-20T16:07:13.781475",
     "exception": false,
     "start_time": "2023-05-20T16:07:13.773282",
     "status": "completed"
    },
    "tags": []
   },
   "source": [
    "## Think About Your Results\n",
    "\n",
    "Use the `head` method to compare the top few predictions to the actual home values (in `y`) for those same homes. Anything surprising?\n"
   ]
  },
  {
   "cell_type": "code",
   "execution_count": 12,
   "id": "7b3a59e2",
   "metadata": {
    "execution": {
     "iopub.execute_input": "2023-05-20T16:07:13.800708Z",
     "iopub.status.busy": "2023-05-20T16:07:13.799699Z",
     "iopub.status.idle": "2023-05-20T16:07:13.804331Z",
     "shell.execute_reply": "2023-05-20T16:07:13.803344Z"
    },
    "papermill": {
     "duration": 0.016755,
     "end_time": "2023-05-20T16:07:13.806605",
     "exception": false,
     "start_time": "2023-05-20T16:07:13.789850",
     "status": "completed"
    },
    "tags": []
   },
   "outputs": [],
   "source": [
    "# You can write code in this cell\n"
   ]
  },
  {
   "cell_type": "markdown",
   "id": "58233a62",
   "metadata": {
    "papermill": {
     "duration": 0.008161,
     "end_time": "2023-05-20T16:07:13.823227",
     "exception": false,
     "start_time": "2023-05-20T16:07:13.815066",
     "status": "completed"
    },
    "tags": []
   },
   "source": [
    "It's natural to ask how accurate the model's predictions will be and how you can improve that. That will be you're next step.\n",
    "\n",
    "# Keep Going\n",
    "\n",
    "You are ready for **[Model Validation](https://www.kaggle.com/dansbecker/model-validation).**\n"
   ]
  },
  {
   "cell_type": "markdown",
   "id": "8403cdb4",
   "metadata": {
    "papermill": {
     "duration": 0.008196,
     "end_time": "2023-05-20T16:07:13.839807",
     "exception": false,
     "start_time": "2023-05-20T16:07:13.831611",
     "status": "completed"
    },
    "tags": []
   },
   "source": [
    "---\n",
    "\n",
    "\n",
    "\n",
    "\n",
    "*Have questions or comments? Visit the [course discussion forum](https://www.kaggle.com/learn/intro-to-machine-learning/discussion) to chat with other learners.*"
   ]
  }
 ],
 "metadata": {
  "kernelspec": {
   "display_name": "Python 3",
   "language": "python",
   "name": "python3"
  },
  "language_info": {
   "codemirror_mode": {
    "name": "ipython",
    "version": 3
   },
   "file_extension": ".py",
   "mimetype": "text/x-python",
   "name": "python",
   "nbconvert_exporter": "python",
   "pygments_lexer": "ipython3",
   "version": "3.10.10"
  },
  "papermill": {
   "default_parameters": {},
   "duration": 14.857932,
   "end_time": "2023-05-20T16:07:14.870883",
   "environment_variables": {},
   "exception": null,
   "input_path": "__notebook__.ipynb",
   "output_path": "__notebook__.ipynb",
   "parameters": {},
   "start_time": "2023-05-20T16:07:00.012951",
   "version": "2.4.0"
  }
 },
 "nbformat": 4,
 "nbformat_minor": 5
}
