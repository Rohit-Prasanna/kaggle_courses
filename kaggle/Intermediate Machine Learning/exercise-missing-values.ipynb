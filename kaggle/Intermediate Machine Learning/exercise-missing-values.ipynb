{
 "cells": [
  {
   "cell_type": "markdown",
   "id": "06b80757",
   "metadata": {
    "papermill": {
     "duration": 0.010304,
     "end_time": "2023-05-29T17:25:13.430583",
     "exception": false,
     "start_time": "2023-05-29T17:25:13.420279",
     "status": "completed"
    },
    "tags": []
   },
   "source": [
    "**This notebook is an exercise in the [Intermediate Machine Learning](https://www.kaggle.com/learn/intermediate-machine-learning) course.  You can reference the tutorial at [this link](https://www.kaggle.com/alexisbcook/missing-values).**\n",
    "\n",
    "---\n"
   ]
  },
  {
   "cell_type": "markdown",
   "id": "45a52393",
   "metadata": {
    "papermill": {
     "duration": 0.007818,
     "end_time": "2023-05-29T17:25:13.446687",
     "exception": false,
     "start_time": "2023-05-29T17:25:13.438869",
     "status": "completed"
    },
    "tags": []
   },
   "source": [
    "Now it's your turn to test your new knowledge of **missing values** handling. You'll probably find it makes a big difference.\n",
    "\n",
    "# Setup\n",
    "\n",
    "The questions will give you feedback on your work. Run the following cell to set up the feedback system."
   ]
  },
  {
   "cell_type": "code",
   "execution_count": 1,
   "id": "323f48ae",
   "metadata": {
    "execution": {
     "iopub.execute_input": "2023-05-29T17:25:13.465584Z",
     "iopub.status.busy": "2023-05-29T17:25:13.464694Z",
     "iopub.status.idle": "2023-05-29T17:25:13.517431Z",
     "shell.execute_reply": "2023-05-29T17:25:13.516294Z"
    },
    "papermill": {
     "duration": 0.065588,
     "end_time": "2023-05-29T17:25:13.520472",
     "exception": false,
     "start_time": "2023-05-29T17:25:13.454884",
     "status": "completed"
    },
    "tags": []
   },
   "outputs": [
    {
     "name": "stdout",
     "output_type": "stream",
     "text": [
      "Setup Complete\n"
     ]
    }
   ],
   "source": [
    "# Set up code checking\n",
    "import os\n",
    "if not os.path.exists(\"../input/train.csv\"):\n",
    "    os.symlink(\"../input/home-data-for-ml-course/train.csv\", \"../input/train.csv\")  \n",
    "    os.symlink(\"../input/home-data-for-ml-course/test.csv\", \"../input/test.csv\") \n",
    "from learntools.core import binder\n",
    "binder.bind(globals())\n",
    "from learntools.ml_intermediate.ex2 import *\n",
    "print(\"Setup Complete\")"
   ]
  },
  {
   "cell_type": "markdown",
   "id": "e5a0a6a0",
   "metadata": {
    "papermill": {
     "duration": 0.007971,
     "end_time": "2023-05-29T17:25:13.537219",
     "exception": false,
     "start_time": "2023-05-29T17:25:13.529248",
     "status": "completed"
    },
    "tags": []
   },
   "source": [
    "In this exercise, you will work with data from the [Housing Prices Competition for Kaggle Learn Users](https://www.kaggle.com/c/home-data-for-ml-course). \n",
    "\n",
    "![Ames Housing dataset image](https://storage.googleapis.com/kaggle-media/learn/images/lTJVG4e.png)\n",
    "\n",
    "Run the next code cell without changes to load the training and validation sets in `X_train`, `X_valid`, `y_train`, and `y_valid`.  The test set is loaded in `X_test`."
   ]
  },
  {
   "cell_type": "code",
   "execution_count": 2,
   "id": "3492d129",
   "metadata": {
    "execution": {
     "iopub.execute_input": "2023-05-29T17:25:13.563594Z",
     "iopub.status.busy": "2023-05-29T17:25:13.562646Z",
     "iopub.status.idle": "2023-05-29T17:25:14.962525Z",
     "shell.execute_reply": "2023-05-29T17:25:14.961578Z"
    },
    "papermill": {
     "duration": 1.419494,
     "end_time": "2023-05-29T17:25:14.964898",
     "exception": false,
     "start_time": "2023-05-29T17:25:13.545404",
     "status": "completed"
    },
    "tags": []
   },
   "outputs": [],
   "source": [
    "import pandas as pd\n",
    "from sklearn.model_selection import train_test_split\n",
    "\n",
    "# Read the data\n",
    "X_full = pd.read_csv('../input/train.csv', index_col='Id')\n",
    "X_test_full = pd.read_csv('../input/test.csv', index_col='Id')\n",
    "\n",
    "# Remove rows with missing target, separate target from predictors\n",
    "X_full.dropna(axis=0, subset=['SalePrice'], inplace=True)\n",
    "y = X_full.SalePrice\n",
    "X_full.drop(['SalePrice'], axis=1, inplace=True)\n",
    "\n",
    "# To keep things simple, we'll use only numerical predictors\n",
    "X = X_full.select_dtypes(exclude=['object'])\n",
    "X_test = X_test_full.select_dtypes(exclude=['object'])\n",
    "\n",
    "# Break off validation set from training data\n",
    "X_train, X_valid, y_train, y_valid = train_test_split(X, y, train_size=0.8, test_size=0.2,\n",
    "                                                      random_state=0)"
   ]
  },
  {
   "cell_type": "markdown",
   "id": "28b2fd0a",
   "metadata": {
    "papermill": {
     "duration": 0.008082,
     "end_time": "2023-05-29T17:25:14.981409",
     "exception": false,
     "start_time": "2023-05-29T17:25:14.973327",
     "status": "completed"
    },
    "tags": []
   },
   "source": [
    "Use the next code cell to print the first five rows of the data."
   ]
  },
  {
   "cell_type": "code",
   "execution_count": 3,
   "id": "097a8ead",
   "metadata": {
    "execution": {
     "iopub.execute_input": "2023-05-29T17:25:14.999502Z",
     "iopub.status.busy": "2023-05-29T17:25:14.999143Z",
     "iopub.status.idle": "2023-05-29T17:25:15.032151Z",
     "shell.execute_reply": "2023-05-29T17:25:15.031009Z"
    },
    "papermill": {
     "duration": 0.044815,
     "end_time": "2023-05-29T17:25:15.034377",
     "exception": false,
     "start_time": "2023-05-29T17:25:14.989562",
     "status": "completed"
    },
    "tags": []
   },
   "outputs": [
    {
     "data": {
      "text/html": [
       "<div>\n",
       "<style scoped>\n",
       "    .dataframe tbody tr th:only-of-type {\n",
       "        vertical-align: middle;\n",
       "    }\n",
       "\n",
       "    .dataframe tbody tr th {\n",
       "        vertical-align: top;\n",
       "    }\n",
       "\n",
       "    .dataframe thead th {\n",
       "        text-align: right;\n",
       "    }\n",
       "</style>\n",
       "<table border=\"1\" class=\"dataframe\">\n",
       "  <thead>\n",
       "    <tr style=\"text-align: right;\">\n",
       "      <th></th>\n",
       "      <th>MSSubClass</th>\n",
       "      <th>LotFrontage</th>\n",
       "      <th>LotArea</th>\n",
       "      <th>OverallQual</th>\n",
       "      <th>OverallCond</th>\n",
       "      <th>YearBuilt</th>\n",
       "      <th>YearRemodAdd</th>\n",
       "      <th>MasVnrArea</th>\n",
       "      <th>BsmtFinSF1</th>\n",
       "      <th>BsmtFinSF2</th>\n",
       "      <th>...</th>\n",
       "      <th>GarageArea</th>\n",
       "      <th>WoodDeckSF</th>\n",
       "      <th>OpenPorchSF</th>\n",
       "      <th>EnclosedPorch</th>\n",
       "      <th>3SsnPorch</th>\n",
       "      <th>ScreenPorch</th>\n",
       "      <th>PoolArea</th>\n",
       "      <th>MiscVal</th>\n",
       "      <th>MoSold</th>\n",
       "      <th>YrSold</th>\n",
       "    </tr>\n",
       "    <tr>\n",
       "      <th>Id</th>\n",
       "      <th></th>\n",
       "      <th></th>\n",
       "      <th></th>\n",
       "      <th></th>\n",
       "      <th></th>\n",
       "      <th></th>\n",
       "      <th></th>\n",
       "      <th></th>\n",
       "      <th></th>\n",
       "      <th></th>\n",
       "      <th></th>\n",
       "      <th></th>\n",
       "      <th></th>\n",
       "      <th></th>\n",
       "      <th></th>\n",
       "      <th></th>\n",
       "      <th></th>\n",
       "      <th></th>\n",
       "      <th></th>\n",
       "      <th></th>\n",
       "      <th></th>\n",
       "    </tr>\n",
       "  </thead>\n",
       "  <tbody>\n",
       "    <tr>\n",
       "      <th>619</th>\n",
       "      <td>20</td>\n",
       "      <td>90.0</td>\n",
       "      <td>11694</td>\n",
       "      <td>9</td>\n",
       "      <td>5</td>\n",
       "      <td>2007</td>\n",
       "      <td>2007</td>\n",
       "      <td>452.0</td>\n",
       "      <td>48</td>\n",
       "      <td>0</td>\n",
       "      <td>...</td>\n",
       "      <td>774</td>\n",
       "      <td>0</td>\n",
       "      <td>108</td>\n",
       "      <td>0</td>\n",
       "      <td>0</td>\n",
       "      <td>260</td>\n",
       "      <td>0</td>\n",
       "      <td>0</td>\n",
       "      <td>7</td>\n",
       "      <td>2007</td>\n",
       "    </tr>\n",
       "    <tr>\n",
       "      <th>871</th>\n",
       "      <td>20</td>\n",
       "      <td>60.0</td>\n",
       "      <td>6600</td>\n",
       "      <td>5</td>\n",
       "      <td>5</td>\n",
       "      <td>1962</td>\n",
       "      <td>1962</td>\n",
       "      <td>0.0</td>\n",
       "      <td>0</td>\n",
       "      <td>0</td>\n",
       "      <td>...</td>\n",
       "      <td>308</td>\n",
       "      <td>0</td>\n",
       "      <td>0</td>\n",
       "      <td>0</td>\n",
       "      <td>0</td>\n",
       "      <td>0</td>\n",
       "      <td>0</td>\n",
       "      <td>0</td>\n",
       "      <td>8</td>\n",
       "      <td>2009</td>\n",
       "    </tr>\n",
       "    <tr>\n",
       "      <th>93</th>\n",
       "      <td>30</td>\n",
       "      <td>80.0</td>\n",
       "      <td>13360</td>\n",
       "      <td>5</td>\n",
       "      <td>7</td>\n",
       "      <td>1921</td>\n",
       "      <td>2006</td>\n",
       "      <td>0.0</td>\n",
       "      <td>713</td>\n",
       "      <td>0</td>\n",
       "      <td>...</td>\n",
       "      <td>432</td>\n",
       "      <td>0</td>\n",
       "      <td>0</td>\n",
       "      <td>44</td>\n",
       "      <td>0</td>\n",
       "      <td>0</td>\n",
       "      <td>0</td>\n",
       "      <td>0</td>\n",
       "      <td>8</td>\n",
       "      <td>2009</td>\n",
       "    </tr>\n",
       "    <tr>\n",
       "      <th>818</th>\n",
       "      <td>20</td>\n",
       "      <td>NaN</td>\n",
       "      <td>13265</td>\n",
       "      <td>8</td>\n",
       "      <td>5</td>\n",
       "      <td>2002</td>\n",
       "      <td>2002</td>\n",
       "      <td>148.0</td>\n",
       "      <td>1218</td>\n",
       "      <td>0</td>\n",
       "      <td>...</td>\n",
       "      <td>857</td>\n",
       "      <td>150</td>\n",
       "      <td>59</td>\n",
       "      <td>0</td>\n",
       "      <td>0</td>\n",
       "      <td>0</td>\n",
       "      <td>0</td>\n",
       "      <td>0</td>\n",
       "      <td>7</td>\n",
       "      <td>2008</td>\n",
       "    </tr>\n",
       "    <tr>\n",
       "      <th>303</th>\n",
       "      <td>20</td>\n",
       "      <td>118.0</td>\n",
       "      <td>13704</td>\n",
       "      <td>7</td>\n",
       "      <td>5</td>\n",
       "      <td>2001</td>\n",
       "      <td>2002</td>\n",
       "      <td>150.0</td>\n",
       "      <td>0</td>\n",
       "      <td>0</td>\n",
       "      <td>...</td>\n",
       "      <td>843</td>\n",
       "      <td>468</td>\n",
       "      <td>81</td>\n",
       "      <td>0</td>\n",
       "      <td>0</td>\n",
       "      <td>0</td>\n",
       "      <td>0</td>\n",
       "      <td>0</td>\n",
       "      <td>1</td>\n",
       "      <td>2006</td>\n",
       "    </tr>\n",
       "  </tbody>\n",
       "</table>\n",
       "<p>5 rows × 36 columns</p>\n",
       "</div>"
      ],
      "text/plain": [
       "     MSSubClass  LotFrontage  LotArea  OverallQual  OverallCond  YearBuilt  \\\n",
       "Id                                                                           \n",
       "619          20         90.0    11694            9            5       2007   \n",
       "871          20         60.0     6600            5            5       1962   \n",
       "93           30         80.0    13360            5            7       1921   \n",
       "818          20          NaN    13265            8            5       2002   \n",
       "303          20        118.0    13704            7            5       2001   \n",
       "\n",
       "     YearRemodAdd  MasVnrArea  BsmtFinSF1  BsmtFinSF2  ...  GarageArea  \\\n",
       "Id                                                     ...               \n",
       "619          2007       452.0          48           0  ...         774   \n",
       "871          1962         0.0           0           0  ...         308   \n",
       "93           2006         0.0         713           0  ...         432   \n",
       "818          2002       148.0        1218           0  ...         857   \n",
       "303          2002       150.0           0           0  ...         843   \n",
       "\n",
       "     WoodDeckSF  OpenPorchSF  EnclosedPorch  3SsnPorch  ScreenPorch  PoolArea  \\\n",
       "Id                                                                              \n",
       "619           0          108              0          0          260         0   \n",
       "871           0            0              0          0            0         0   \n",
       "93            0            0             44          0            0         0   \n",
       "818         150           59              0          0            0         0   \n",
       "303         468           81              0          0            0         0   \n",
       "\n",
       "     MiscVal  MoSold  YrSold  \n",
       "Id                            \n",
       "619        0       7    2007  \n",
       "871        0       8    2009  \n",
       "93         0       8    2009  \n",
       "818        0       7    2008  \n",
       "303        0       1    2006  \n",
       "\n",
       "[5 rows x 36 columns]"
      ]
     },
     "execution_count": 3,
     "metadata": {},
     "output_type": "execute_result"
    }
   ],
   "source": [
    "X_train.head()"
   ]
  },
  {
   "cell_type": "markdown",
   "id": "f0037ecf",
   "metadata": {
    "papermill": {
     "duration": 0.008013,
     "end_time": "2023-05-29T17:25:15.050921",
     "exception": false,
     "start_time": "2023-05-29T17:25:15.042908",
     "status": "completed"
    },
    "tags": []
   },
   "source": [
    "You can already see a few missing values in the first several rows.  In the next step, you'll obtain a more comprehensive understanding of the missing values in the dataset.\n",
    "\n",
    "# Step 1: Preliminary investigation\n",
    "\n",
    "Run the code cell below without changes."
   ]
  },
  {
   "cell_type": "code",
   "execution_count": 4,
   "id": "c8e2a36b",
   "metadata": {
    "execution": {
     "iopub.execute_input": "2023-05-29T17:25:15.070154Z",
     "iopub.status.busy": "2023-05-29T17:25:15.069751Z",
     "iopub.status.idle": "2023-05-29T17:25:15.077727Z",
     "shell.execute_reply": "2023-05-29T17:25:15.076527Z"
    },
    "papermill": {
     "duration": 0.020445,
     "end_time": "2023-05-29T17:25:15.079758",
     "exception": false,
     "start_time": "2023-05-29T17:25:15.059313",
     "status": "completed"
    },
    "tags": []
   },
   "outputs": [
    {
     "name": "stdout",
     "output_type": "stream",
     "text": [
      "(1168, 36)\n",
      "LotFrontage    212\n",
      "MasVnrArea       6\n",
      "GarageYrBlt     58\n",
      "dtype: int64\n"
     ]
    }
   ],
   "source": [
    "# Shape of training data (num_rows, num_columns)\n",
    "print(X_train.shape)\n",
    "\n",
    "# Number of missing values in each column of training data\n",
    "missing_val_count_by_column = (X_train.isnull().sum())\n",
    "print(missing_val_count_by_column[missing_val_count_by_column > 0])"
   ]
  },
  {
   "cell_type": "markdown",
   "id": "c7fb1a31",
   "metadata": {
    "papermill": {
     "duration": 0.008415,
     "end_time": "2023-05-29T17:25:15.096762",
     "exception": false,
     "start_time": "2023-05-29T17:25:15.088347",
     "status": "completed"
    },
    "tags": []
   },
   "source": [
    "### Part A\n",
    "\n",
    "Use the above output to answer the questions below."
   ]
  },
  {
   "cell_type": "code",
   "execution_count": 5,
   "id": "1a49ceec",
   "metadata": {
    "execution": {
     "iopub.execute_input": "2023-05-29T17:25:15.116066Z",
     "iopub.status.busy": "2023-05-29T17:25:15.115164Z",
     "iopub.status.idle": "2023-05-29T17:25:15.123147Z",
     "shell.execute_reply": "2023-05-29T17:25:15.122349Z"
    },
    "papermill": {
     "duration": 0.019545,
     "end_time": "2023-05-29T17:25:15.124979",
     "exception": false,
     "start_time": "2023-05-29T17:25:15.105434",
     "status": "completed"
    },
    "tags": []
   },
   "outputs": [
    {
     "data": {
      "application/javascript": [
       "parent.postMessage({\"jupyterEvent\": \"custom.exercise_interaction\", \"data\": {\"outcomeType\": 1, \"valueTowardsCompletion\": 1.0, \"interactionType\": 1, \"questionType\": 1, \"questionId\": \"1.1_InvestigateEquality\", \"learnToolsVersion\": \"0.3.4\", \"failureMessage\": \"\", \"exceptionClass\": \"\", \"trace\": \"\"}}, \"*\")"
      ],
      "text/plain": [
       "<IPython.core.display.Javascript object>"
      ]
     },
     "metadata": {},
     "output_type": "display_data"
    },
    {
     "data": {
      "text/markdown": [
       "<span style=\"color:#33cc33\">Correct</span>"
      ],
      "text/plain": [
       "Correct"
      ]
     },
     "metadata": {},
     "output_type": "display_data"
    }
   ],
   "source": [
    "# Fill in the line below: How many rows are in the training data?\n",
    "num_rows = 1168\n",
    "\n",
    "# Fill in the line below: How many columns in the training data\n",
    "# have missing values?\n",
    "num_cols_with_missing = 3\n",
    "\n",
    "# Fill in the line below: How many missing entries are contained in \n",
    "# all of the training data?\n",
    "tot_missing = 212+6+58\n",
    "\n",
    "# Check your answers\n",
    "step_1.a.check()"
   ]
  },
  {
   "cell_type": "code",
   "execution_count": 6,
   "id": "f3fd5673",
   "metadata": {
    "execution": {
     "iopub.execute_input": "2023-05-29T17:25:15.144830Z",
     "iopub.status.busy": "2023-05-29T17:25:15.144227Z",
     "iopub.status.idle": "2023-05-29T17:25:15.147803Z",
     "shell.execute_reply": "2023-05-29T17:25:15.147010Z"
    },
    "papermill": {
     "duration": 0.015906,
     "end_time": "2023-05-29T17:25:15.149649",
     "exception": false,
     "start_time": "2023-05-29T17:25:15.133743",
     "status": "completed"
    },
    "tags": []
   },
   "outputs": [],
   "source": [
    "# Lines below will give you a hint or solution code\n",
    "#step_1.a.hint()\n",
    "#step_1.a.solution()"
   ]
  },
  {
   "cell_type": "markdown",
   "id": "cb20eeb9",
   "metadata": {
    "papermill": {
     "duration": 0.008196,
     "end_time": "2023-05-29T17:25:15.166818",
     "exception": false,
     "start_time": "2023-05-29T17:25:15.158622",
     "status": "completed"
    },
    "tags": []
   },
   "source": [
    "### Part B\n",
    "Considering your answers above, what do you think is likely the best approach to dealing with the missing values?"
   ]
  },
  {
   "cell_type": "code",
   "execution_count": 7,
   "id": "573af38f",
   "metadata": {
    "execution": {
     "iopub.execute_input": "2023-05-29T17:25:15.186010Z",
     "iopub.status.busy": "2023-05-29T17:25:15.185409Z",
     "iopub.status.idle": "2023-05-29T17:25:15.191855Z",
     "shell.execute_reply": "2023-05-29T17:25:15.191104Z"
    },
    "papermill": {
     "duration": 0.018262,
     "end_time": "2023-05-29T17:25:15.193666",
     "exception": false,
     "start_time": "2023-05-29T17:25:15.175404",
     "status": "completed"
    },
    "tags": []
   },
   "outputs": [
    {
     "data": {
      "application/javascript": [
       "parent.postMessage({\"jupyterEvent\": \"custom.exercise_interaction\", \"data\": {\"outcomeType\": 1, \"valueTowardsCompletion\": 1.0, \"interactionType\": 1, \"questionType\": 4, \"questionId\": \"1.2_InvestigateThought\", \"learnToolsVersion\": \"0.3.4\", \"failureMessage\": \"\", \"exceptionClass\": \"\", \"trace\": \"\"}}, \"*\")"
      ],
      "text/plain": [
       "<IPython.core.display.Javascript object>"
      ]
     },
     "metadata": {},
     "output_type": "display_data"
    },
    {
     "data": {
      "text/markdown": [
       "<span style=\"color:#33cc33\">Correct:</span> \n",
       "\n",
       "Since there are relatively few missing entries in the data (the column with the greatest percentage of missing values is missing less than 20% of its entries), we can expect that dropping columns is unlikely to yield good results.  This is because we'd be throwing away a lot of valuable data, and so imputation will likely perform better."
      ],
      "text/plain": [
       "Correct: \n",
       "\n",
       "Since there are relatively few missing entries in the data (the column with the greatest percentage of missing values is missing less than 20% of its entries), we can expect that dropping columns is unlikely to yield good results.  This is because we'd be throwing away a lot of valuable data, and so imputation will likely perform better."
      ]
     },
     "metadata": {},
     "output_type": "display_data"
    }
   ],
   "source": [
    "# Check your answer (Run this code cell to receive credit!)\n",
    "step_1.b.check()"
   ]
  },
  {
   "cell_type": "code",
   "execution_count": 8,
   "id": "01fddfbb",
   "metadata": {
    "execution": {
     "iopub.execute_input": "2023-05-29T17:25:15.213348Z",
     "iopub.status.busy": "2023-05-29T17:25:15.212773Z",
     "iopub.status.idle": "2023-05-29T17:25:15.217044Z",
     "shell.execute_reply": "2023-05-29T17:25:15.216081Z"
    },
    "papermill": {
     "duration": 0.016456,
     "end_time": "2023-05-29T17:25:15.219047",
     "exception": false,
     "start_time": "2023-05-29T17:25:15.202591",
     "status": "completed"
    },
    "tags": []
   },
   "outputs": [],
   "source": [
    "#step_1.b.hint()"
   ]
  },
  {
   "cell_type": "markdown",
   "id": "c38fb8fa",
   "metadata": {
    "papermill": {
     "duration": 0.008722,
     "end_time": "2023-05-29T17:25:15.237160",
     "exception": false,
     "start_time": "2023-05-29T17:25:15.228438",
     "status": "completed"
    },
    "tags": []
   },
   "source": [
    "To compare different approaches to dealing with missing values, you'll use the same `score_dataset()` function from the tutorial.  This function reports the [mean absolute error](https://en.wikipedia.org/wiki/Mean_absolute_error) (MAE) from a random forest model."
   ]
  },
  {
   "cell_type": "code",
   "execution_count": 9,
   "id": "4203835f",
   "metadata": {
    "execution": {
     "iopub.execute_input": "2023-05-29T17:25:15.257164Z",
     "iopub.status.busy": "2023-05-29T17:25:15.256766Z",
     "iopub.status.idle": "2023-05-29T17:25:15.618636Z",
     "shell.execute_reply": "2023-05-29T17:25:15.617658Z"
    },
    "papermill": {
     "duration": 0.374962,
     "end_time": "2023-05-29T17:25:15.621178",
     "exception": false,
     "start_time": "2023-05-29T17:25:15.246216",
     "status": "completed"
    },
    "tags": []
   },
   "outputs": [],
   "source": [
    "from sklearn.ensemble import RandomForestRegressor\n",
    "from sklearn.metrics import mean_absolute_error\n",
    "\n",
    "# Function for comparing different approaches\n",
    "def score_dataset(X_train, X_valid, y_train, y_valid):\n",
    "    model = RandomForestRegressor(n_estimators=100, random_state=0)\n",
    "    model.fit(X_train, y_train)\n",
    "    preds = model.predict(X_valid)\n",
    "    return mean_absolute_error(y_valid, preds)"
   ]
  },
  {
   "cell_type": "markdown",
   "id": "86a5296a",
   "metadata": {
    "papermill": {
     "duration": 0.008765,
     "end_time": "2023-05-29T17:25:15.639381",
     "exception": false,
     "start_time": "2023-05-29T17:25:15.630616",
     "status": "completed"
    },
    "tags": []
   },
   "source": [
    "# Step 2: Drop columns with missing values\n",
    "\n",
    "In this step, you'll preprocess the data in `X_train` and `X_valid` to remove columns with missing values.  Set the preprocessed DataFrames to `reduced_X_train` and `reduced_X_valid`, respectively.  "
   ]
  },
  {
   "cell_type": "code",
   "execution_count": 10,
   "id": "c3d66510",
   "metadata": {
    "execution": {
     "iopub.execute_input": "2023-05-29T17:25:15.659193Z",
     "iopub.status.busy": "2023-05-29T17:25:15.658788Z",
     "iopub.status.idle": "2023-05-29T17:25:15.685372Z",
     "shell.execute_reply": "2023-05-29T17:25:15.684317Z"
    },
    "papermill": {
     "duration": 0.0391,
     "end_time": "2023-05-29T17:25:15.687483",
     "exception": false,
     "start_time": "2023-05-29T17:25:15.648383",
     "status": "completed"
    },
    "tags": []
   },
   "outputs": [
    {
     "data": {
      "application/javascript": [
       "parent.postMessage({\"jupyterEvent\": \"custom.exercise_interaction\", \"data\": {\"outcomeType\": 1, \"valueTowardsCompletion\": 1.0, \"interactionType\": 1, \"questionType\": 2, \"questionId\": \"2_DropMissing\", \"learnToolsVersion\": \"0.3.4\", \"failureMessage\": \"\", \"exceptionClass\": \"\", \"trace\": \"\"}}, \"*\")"
      ],
      "text/plain": [
       "<IPython.core.display.Javascript object>"
      ]
     },
     "metadata": {},
     "output_type": "display_data"
    },
    {
     "data": {
      "text/markdown": [
       "<span style=\"color:#33cc33\">Correct</span>"
      ],
      "text/plain": [
       "Correct"
      ]
     },
     "metadata": {},
     "output_type": "display_data"
    }
   ],
   "source": [
    "# Fill in the line below: get names of columns with missing values\n",
    "____ # Your code here\n",
    "cols_with_missing = [col for col in X_train.columns\n",
    "                     if X_train[col].isnull().any()]\n",
    "# Fill in the lines below: drop columns in training and validation data\n",
    "reduced_X_train = X_train.drop(cols_with_missing, axis=1)\n",
    "reduced_X_valid = X_valid.drop(cols_with_missing, axis=1)\n",
    "\n",
    "# Check your answers\n",
    "step_2.check()"
   ]
  },
  {
   "cell_type": "code",
   "execution_count": 11,
   "id": "163a30ac",
   "metadata": {
    "execution": {
     "iopub.execute_input": "2023-05-29T17:25:15.709136Z",
     "iopub.status.busy": "2023-05-29T17:25:15.708627Z",
     "iopub.status.idle": "2023-05-29T17:25:15.714250Z",
     "shell.execute_reply": "2023-05-29T17:25:15.712505Z"
    },
    "papermill": {
     "duration": 0.019809,
     "end_time": "2023-05-29T17:25:15.716703",
     "exception": false,
     "start_time": "2023-05-29T17:25:15.696894",
     "status": "completed"
    },
    "tags": []
   },
   "outputs": [],
   "source": [
    "# Lines below will give you a hint or solution code\n",
    "#step_2.hint()\n",
    "#step_2.solution()"
   ]
  },
  {
   "cell_type": "markdown",
   "id": "b5d3aaeb",
   "metadata": {
    "papermill": {
     "duration": 0.010432,
     "end_time": "2023-05-29T17:25:15.737772",
     "exception": false,
     "start_time": "2023-05-29T17:25:15.727340",
     "status": "completed"
    },
    "tags": []
   },
   "source": [
    "Run the next code cell without changes to obtain the MAE for this approach."
   ]
  },
  {
   "cell_type": "code",
   "execution_count": 12,
   "id": "5c421e4e",
   "metadata": {
    "execution": {
     "iopub.execute_input": "2023-05-29T17:25:15.763067Z",
     "iopub.status.busy": "2023-05-29T17:25:15.762541Z",
     "iopub.status.idle": "2023-05-29T17:25:17.016297Z",
     "shell.execute_reply": "2023-05-29T17:25:17.014931Z"
    },
    "papermill": {
     "duration": 1.268912,
     "end_time": "2023-05-29T17:25:17.018558",
     "exception": false,
     "start_time": "2023-05-29T17:25:15.749646",
     "status": "completed"
    },
    "tags": []
   },
   "outputs": [
    {
     "name": "stdout",
     "output_type": "stream",
     "text": [
      "MAE (Drop columns with missing values):\n",
      "17837.82570776256\n"
     ]
    }
   ],
   "source": [
    "print(\"MAE (Drop columns with missing values):\")\n",
    "print(score_dataset(reduced_X_train, reduced_X_valid, y_train, y_valid))"
   ]
  },
  {
   "cell_type": "markdown",
   "id": "efead470",
   "metadata": {
    "papermill": {
     "duration": 0.009364,
     "end_time": "2023-05-29T17:25:17.037481",
     "exception": false,
     "start_time": "2023-05-29T17:25:17.028117",
     "status": "completed"
    },
    "tags": []
   },
   "source": [
    "# Step 3: Imputation\n",
    "\n",
    "### Part A\n",
    "\n",
    "Use the next code cell to impute missing values with the mean value along each column.  Set the preprocessed DataFrames to `imputed_X_train` and `imputed_X_valid`.  Make sure that the column names match those in `X_train` and `X_valid`."
   ]
  },
  {
   "cell_type": "code",
   "execution_count": 13,
   "id": "e5bda46b",
   "metadata": {
    "execution": {
     "iopub.execute_input": "2023-05-29T17:25:17.058765Z",
     "iopub.status.busy": "2023-05-29T17:25:17.057644Z",
     "iopub.status.idle": "2023-05-29T17:25:17.098339Z",
     "shell.execute_reply": "2023-05-29T17:25:17.097217Z"
    },
    "papermill": {
     "duration": 0.053757,
     "end_time": "2023-05-29T17:25:17.100780",
     "exception": false,
     "start_time": "2023-05-29T17:25:17.047023",
     "status": "completed"
    },
    "tags": []
   },
   "outputs": [
    {
     "data": {
      "application/javascript": [
       "parent.postMessage({\"jupyterEvent\": \"custom.exercise_interaction\", \"data\": {\"outcomeType\": 1, \"valueTowardsCompletion\": 1.0, \"interactionType\": 1, \"questionType\": 2, \"questionId\": \"3.1_ImputeCode\", \"learnToolsVersion\": \"0.3.4\", \"failureMessage\": \"\", \"exceptionClass\": \"\", \"trace\": \"\"}}, \"*\")"
      ],
      "text/plain": [
       "<IPython.core.display.Javascript object>"
      ]
     },
     "metadata": {},
     "output_type": "display_data"
    },
    {
     "data": {
      "text/markdown": [
       "<span style=\"color:#33cc33\">Correct</span>"
      ],
      "text/plain": [
       "Correct"
      ]
     },
     "metadata": {},
     "output_type": "display_data"
    }
   ],
   "source": [
    "from sklearn.impute import SimpleImputer\n",
    "\n",
    "# Fill in the lines below: imputation\n",
    "____ # Your code here\n",
    "# Imputation\n",
    "my_imputer = SimpleImputer()\n",
    "imputed_X_train = pd.DataFrame(my_imputer.fit_transform(X_train))\n",
    "imputed_X_valid = pd.DataFrame(my_imputer.transform(X_valid))\n",
    "\n",
    "# Fill in the lines below: imputation removed column names; put them back\n",
    "imputed_X_train.columns = X_train.columns\n",
    "imputed_X_valid.columns =X_valid.columns\n",
    "\n",
    "# Check your answers\n",
    "step_3.a.check()"
   ]
  },
  {
   "cell_type": "code",
   "execution_count": 14,
   "id": "2bcd5914",
   "metadata": {
    "execution": {
     "iopub.execute_input": "2023-05-29T17:25:17.121719Z",
     "iopub.status.busy": "2023-05-29T17:25:17.121345Z",
     "iopub.status.idle": "2023-05-29T17:25:17.126121Z",
     "shell.execute_reply": "2023-05-29T17:25:17.125055Z"
    },
    "papermill": {
     "duration": 0.017864,
     "end_time": "2023-05-29T17:25:17.128268",
     "exception": false,
     "start_time": "2023-05-29T17:25:17.110404",
     "status": "completed"
    },
    "tags": []
   },
   "outputs": [],
   "source": [
    "# Lines below will give you a hint or solution code\n",
    "#step_3.a.hint()\n",
    "#step_3.a.solution()"
   ]
  },
  {
   "cell_type": "markdown",
   "id": "aa2481e2",
   "metadata": {
    "papermill": {
     "duration": 0.009275,
     "end_time": "2023-05-29T17:25:17.147241",
     "exception": false,
     "start_time": "2023-05-29T17:25:17.137966",
     "status": "completed"
    },
    "tags": []
   },
   "source": [
    "Run the next code cell without changes to obtain the MAE for this approach."
   ]
  },
  {
   "cell_type": "code",
   "execution_count": 15,
   "id": "bff23417",
   "metadata": {
    "execution": {
     "iopub.execute_input": "2023-05-29T17:25:17.168167Z",
     "iopub.status.busy": "2023-05-29T17:25:17.167789Z",
     "iopub.status.idle": "2023-05-29T17:25:18.547275Z",
     "shell.execute_reply": "2023-05-29T17:25:18.545796Z"
    },
    "papermill": {
     "duration": 1.392697,
     "end_time": "2023-05-29T17:25:18.549722",
     "exception": false,
     "start_time": "2023-05-29T17:25:17.157025",
     "status": "completed"
    },
    "tags": []
   },
   "outputs": [
    {
     "name": "stdout",
     "output_type": "stream",
     "text": [
      "MAE (Imputation):\n",
      "18062.894611872147\n"
     ]
    }
   ],
   "source": [
    "print(\"MAE (Imputation):\")\n",
    "print(score_dataset(imputed_X_train, imputed_X_valid, y_train, y_valid))"
   ]
  },
  {
   "cell_type": "markdown",
   "id": "0aa23bbf",
   "metadata": {
    "papermill": {
     "duration": 0.009368,
     "end_time": "2023-05-29T17:25:18.569076",
     "exception": false,
     "start_time": "2023-05-29T17:25:18.559708",
     "status": "completed"
    },
    "tags": []
   },
   "source": [
    "### Part B\n",
    "\n",
    "Compare the MAE from each approach.  Does anything surprise you about the results?  Why do you think one approach performed better than the other?"
   ]
  },
  {
   "cell_type": "code",
   "execution_count": 16,
   "id": "88b7d685",
   "metadata": {
    "execution": {
     "iopub.execute_input": "2023-05-29T17:25:18.590781Z",
     "iopub.status.busy": "2023-05-29T17:25:18.590441Z",
     "iopub.status.idle": "2023-05-29T17:25:18.599206Z",
     "shell.execute_reply": "2023-05-29T17:25:18.598224Z"
    },
    "papermill": {
     "duration": 0.021802,
     "end_time": "2023-05-29T17:25:18.601139",
     "exception": false,
     "start_time": "2023-05-29T17:25:18.579337",
     "status": "completed"
    },
    "tags": []
   },
   "outputs": [
    {
     "data": {
      "application/javascript": [
       "parent.postMessage({\"jupyterEvent\": \"custom.exercise_interaction\", \"data\": {\"outcomeType\": 1, \"valueTowardsCompletion\": 1.0, \"interactionType\": 1, \"questionType\": 4, \"questionId\": \"3.2_ImputeThought\", \"learnToolsVersion\": \"0.3.4\", \"failureMessage\": \"\", \"exceptionClass\": \"\", \"trace\": \"\"}}, \"*\")"
      ],
      "text/plain": [
       "<IPython.core.display.Javascript object>"
      ]
     },
     "metadata": {},
     "output_type": "display_data"
    },
    {
     "data": {
      "text/markdown": [
       "<span style=\"color:#33cc33\">Correct:</span> \n",
       "\n",
       "Given that thre are so few missing values in the dataset, we'd expect imputation to perform better than dropping columns entirely.  However, we see that dropping columns performs slightly better!  While this can probably partially be attributed to noise in the dataset, another potential explanation is that the imputation method is not a great match to this dataset.  That is, maybe instead of filling in the mean value, it makes more sense to set every missing value to a value of 0, to fill in the most frequently encountered value, or to use some other method.  For instance, consider the `GarageYrBlt` column (which indicates the year that the garage was built).  It's likely that in some cases, a missing value could indicate a house that does not have a garage.  Does it make more sense to fill in the median value along each column in this case?  Or could we get better results by filling in the minimum value along each column?  It's not quite clear what's best in this case, but perhaps we can rule out some options immediately - for instance, setting missing values in this column to 0 is likely to yield horrible results!"
      ],
      "text/plain": [
       "Correct: \n",
       "\n",
       "Given that thre are so few missing values in the dataset, we'd expect imputation to perform better than dropping columns entirely.  However, we see that dropping columns performs slightly better!  While this can probably partially be attributed to noise in the dataset, another potential explanation is that the imputation method is not a great match to this dataset.  That is, maybe instead of filling in the mean value, it makes more sense to set every missing value to a value of 0, to fill in the most frequently encountered value, or to use some other method.  For instance, consider the `GarageYrBlt` column (which indicates the year that the garage was built).  It's likely that in some cases, a missing value could indicate a house that does not have a garage.  Does it make more sense to fill in the median value along each column in this case?  Or could we get better results by filling in the minimum value along each column?  It's not quite clear what's best in this case, but perhaps we can rule out some options immediately - for instance, setting missing values in this column to 0 is likely to yield horrible results!"
      ]
     },
     "metadata": {},
     "output_type": "display_data"
    }
   ],
   "source": [
    "# Check your answer (Run this code cell to receive credit!)\n",
    "step_3.b.check()"
   ]
  },
  {
   "cell_type": "code",
   "execution_count": 17,
   "id": "ad6abc28",
   "metadata": {
    "execution": {
     "iopub.execute_input": "2023-05-29T17:25:18.623161Z",
     "iopub.status.busy": "2023-05-29T17:25:18.622778Z",
     "iopub.status.idle": "2023-05-29T17:25:18.626442Z",
     "shell.execute_reply": "2023-05-29T17:25:18.625683Z"
    },
    "papermill": {
     "duration": 0.016954,
     "end_time": "2023-05-29T17:25:18.628330",
     "exception": false,
     "start_time": "2023-05-29T17:25:18.611376",
     "status": "completed"
    },
    "tags": []
   },
   "outputs": [],
   "source": [
    "#step_3.b.hint()"
   ]
  },
  {
   "cell_type": "markdown",
   "id": "9d3b18c3",
   "metadata": {
    "papermill": {
     "duration": 0.009554,
     "end_time": "2023-05-29T17:25:18.647921",
     "exception": false,
     "start_time": "2023-05-29T17:25:18.638367",
     "status": "completed"
    },
    "tags": []
   },
   "source": [
    "# Step 4: Generate test predictions\n",
    "\n",
    "In this final step, you'll use any approach of your choosing to deal with missing values.  Once you've preprocessed the training and validation features, you'll train and evaluate a random forest model.  Then, you'll preprocess the test data before generating predictions that can be submitted to the competition!\n",
    "\n",
    "### Part A\n",
    "\n",
    "Use the next code cell to preprocess the training and validation data.  Set the preprocessed DataFrames to `final_X_train` and `final_X_valid`.  **You can use any approach of your choosing here!**  in order for this step to be marked as correct, you need only ensure:\n",
    "- the preprocessed DataFrames have the same number of columns,\n",
    "- the preprocessed DataFrames have no missing values, \n",
    "- `final_X_train` and `y_train` have the same number of rows, and\n",
    "- `final_X_valid` and `y_valid` have the same number of rows."
   ]
  },
  {
   "cell_type": "code",
   "execution_count": 18,
   "id": "a428330a",
   "metadata": {
    "execution": {
     "iopub.execute_input": "2023-05-29T17:25:18.670169Z",
     "iopub.status.busy": "2023-05-29T17:25:18.669410Z",
     "iopub.status.idle": "2023-05-29T17:25:18.699574Z",
     "shell.execute_reply": "2023-05-29T17:25:18.698412Z"
    },
    "papermill": {
     "duration": 0.043553,
     "end_time": "2023-05-29T17:25:18.701746",
     "exception": false,
     "start_time": "2023-05-29T17:25:18.658193",
     "status": "completed"
    },
    "tags": []
   },
   "outputs": [
    {
     "data": {
      "application/javascript": [
       "parent.postMessage({\"jupyterEvent\": \"custom.exercise_interaction\", \"data\": {\"outcomeType\": 1, \"valueTowardsCompletion\": 1.0, \"interactionType\": 1, \"questionType\": 2, \"questionId\": \"4.1_PredsCodeA\", \"learnToolsVersion\": \"0.3.4\", \"failureMessage\": \"\", \"exceptionClass\": \"\", \"trace\": \"\"}}, \"*\")"
      ],
      "text/plain": [
       "<IPython.core.display.Javascript object>"
      ]
     },
     "metadata": {},
     "output_type": "display_data"
    },
    {
     "data": {
      "text/markdown": [
       "<span style=\"color:#33cc33\">Correct</span>"
      ],
      "text/plain": [
       "Correct"
      ]
     },
     "metadata": {},
     "output_type": "display_data"
    }
   ],
   "source": [
    "# Preprocessed training and validation features\n",
    "final_imputer = SimpleImputer(strategy='median')\n",
    "final_X_train = pd.DataFrame(final_imputer.fit_transform(X_train))\n",
    "final_X_valid = pd.DataFrame(final_imputer.transform(X_valid))\n",
    "# Imputation removed column names; put them back\n",
    "final_X_train.columns = X_train.columns\n",
    "final_X_valid.columns = X_valid.columns\n",
    "# Check your answers\n",
    "step_4.a.check()"
   ]
  },
  {
   "cell_type": "code",
   "execution_count": 19,
   "id": "20a8e79c",
   "metadata": {
    "execution": {
     "iopub.execute_input": "2023-05-29T17:25:18.723989Z",
     "iopub.status.busy": "2023-05-29T17:25:18.723546Z",
     "iopub.status.idle": "2023-05-29T17:25:18.728217Z",
     "shell.execute_reply": "2023-05-29T17:25:18.727237Z"
    },
    "papermill": {
     "duration": 0.018203,
     "end_time": "2023-05-29T17:25:18.730308",
     "exception": false,
     "start_time": "2023-05-29T17:25:18.712105",
     "status": "completed"
    },
    "tags": []
   },
   "outputs": [],
   "source": [
    "# Lines below will give you a hint or solution code\n",
    "#step_4.a.hint()\n",
    "#step_4.a.solution()"
   ]
  },
  {
   "cell_type": "markdown",
   "id": "6848bc4d",
   "metadata": {
    "papermill": {
     "duration": 0.009973,
     "end_time": "2023-05-29T17:25:18.750684",
     "exception": false,
     "start_time": "2023-05-29T17:25:18.740711",
     "status": "completed"
    },
    "tags": []
   },
   "source": [
    "Run the next code cell to train and evaluate a random forest model.  (*Note that we don't use the `score_dataset()` function above, because we will soon use the trained model to generate test predictions!*)"
   ]
  },
  {
   "cell_type": "code",
   "execution_count": 20,
   "id": "84b0bac6",
   "metadata": {
    "execution": {
     "iopub.execute_input": "2023-05-29T17:25:18.772899Z",
     "iopub.status.busy": "2023-05-29T17:25:18.772509Z",
     "iopub.status.idle": "2023-05-29T17:25:20.157867Z",
     "shell.execute_reply": "2023-05-29T17:25:20.156640Z"
    },
    "papermill": {
     "duration": 1.399458,
     "end_time": "2023-05-29T17:25:20.160424",
     "exception": false,
     "start_time": "2023-05-29T17:25:18.760966",
     "status": "completed"
    },
    "tags": []
   },
   "outputs": [
    {
     "name": "stdout",
     "output_type": "stream",
     "text": [
      "MAE (Your approach):\n",
      "17791.59899543379\n"
     ]
    }
   ],
   "source": [
    "# Define and fit model\n",
    "model = RandomForestRegressor(n_estimators=100, random_state=0)\n",
    "model.fit(final_X_train, y_train)\n",
    "\n",
    "# Get validation predictions and MAE\n",
    "preds_valid = model.predict(final_X_valid)\n",
    "print(\"MAE (Your approach):\")\n",
    "print(mean_absolute_error(y_valid, preds_valid))"
   ]
  },
  {
   "cell_type": "markdown",
   "id": "a9d63885",
   "metadata": {
    "papermill": {
     "duration": 0.010126,
     "end_time": "2023-05-29T17:25:20.181084",
     "exception": false,
     "start_time": "2023-05-29T17:25:20.170958",
     "status": "completed"
    },
    "tags": []
   },
   "source": [
    "### Part B\n",
    "\n",
    "Use the next code cell to preprocess your test data.  Make sure that you use a method that agrees with how you preprocessed the training and validation data, and set the preprocessed test features to `final_X_test`.\n",
    "\n",
    "Then, use the preprocessed test features and the trained model to generate test predictions in `preds_test`.\n",
    "\n",
    "In order for this step to be marked correct, you need only ensure:\n",
    "- the preprocessed test DataFrame has no missing values, and\n",
    "- `final_X_test` has the same number of rows as `X_test`."
   ]
  },
  {
   "cell_type": "code",
   "execution_count": 21,
   "id": "f1bdcbbf",
   "metadata": {
    "execution": {
     "iopub.execute_input": "2023-05-29T17:25:20.203286Z",
     "iopub.status.busy": "2023-05-29T17:25:20.202896Z",
     "iopub.status.idle": "2023-05-29T17:25:20.256257Z",
     "shell.execute_reply": "2023-05-29T17:25:20.255129Z"
    },
    "papermill": {
     "duration": 0.066942,
     "end_time": "2023-05-29T17:25:20.258374",
     "exception": false,
     "start_time": "2023-05-29T17:25:20.191432",
     "status": "completed"
    },
    "tags": []
   },
   "outputs": [
    {
     "name": "stderr",
     "output_type": "stream",
     "text": [
      "/opt/conda/lib/python3.10/site-packages/sklearn/base.py:439: UserWarning: X does not have valid feature names, but RandomForestRegressor was fitted with feature names\n",
      "  warnings.warn(\n"
     ]
    },
    {
     "data": {
      "application/javascript": [
       "parent.postMessage({\"jupyterEvent\": \"custom.exercise_interaction\", \"data\": {\"outcomeType\": 1, \"valueTowardsCompletion\": 1.0, \"interactionType\": 1, \"questionType\": 2, \"questionId\": \"4.2_PredsCodeB\", \"learnToolsVersion\": \"0.3.4\", \"failureMessage\": \"\", \"exceptionClass\": \"\", \"trace\": \"\"}}, \"*\")"
      ],
      "text/plain": [
       "<IPython.core.display.Javascript object>"
      ]
     },
     "metadata": {},
     "output_type": "display_data"
    },
    {
     "data": {
      "text/markdown": [
       "<span style=\"color:#33cc33\">Correct</span>"
      ],
      "text/plain": [
       "Correct"
      ]
     },
     "metadata": {},
     "output_type": "display_data"
    }
   ],
   "source": [
    "\n",
    "# Preprocess test data\n",
    "final_X_test = pd.DataFrame(final_imputer.transform(X_test))\n",
    "\n",
    "# Get test predictions\n",
    "preds_test = model.predict(final_X_test)\n",
    "\n",
    "# Check your answers\n",
    "step_4.b.check()"
   ]
  },
  {
   "cell_type": "code",
   "execution_count": 22,
   "id": "9cd0d8d8",
   "metadata": {
    "execution": {
     "iopub.execute_input": "2023-05-29T17:25:20.281296Z",
     "iopub.status.busy": "2023-05-29T17:25:20.280937Z",
     "iopub.status.idle": "2023-05-29T17:25:20.285550Z",
     "shell.execute_reply": "2023-05-29T17:25:20.284362Z"
    },
    "papermill": {
     "duration": 0.018337,
     "end_time": "2023-05-29T17:25:20.287631",
     "exception": false,
     "start_time": "2023-05-29T17:25:20.269294",
     "status": "completed"
    },
    "tags": []
   },
   "outputs": [],
   "source": [
    "# Lines below will give you a hint or solution code\n",
    "#step_4.b.hint()\n",
    "#step_4.b.solution()"
   ]
  },
  {
   "cell_type": "markdown",
   "id": "3be21cac",
   "metadata": {
    "papermill": {
     "duration": 0.010221,
     "end_time": "2023-05-29T17:25:20.308564",
     "exception": false,
     "start_time": "2023-05-29T17:25:20.298343",
     "status": "completed"
    },
    "tags": []
   },
   "source": [
    "Run the next code cell without changes to save your results to a CSV file that can be submitted directly to the competition."
   ]
  },
  {
   "cell_type": "code",
   "execution_count": 23,
   "id": "bfd0ede0",
   "metadata": {
    "execution": {
     "iopub.execute_input": "2023-05-29T17:25:20.331710Z",
     "iopub.status.busy": "2023-05-29T17:25:20.331311Z",
     "iopub.status.idle": "2023-05-29T17:25:20.344951Z",
     "shell.execute_reply": "2023-05-29T17:25:20.343892Z"
    },
    "papermill": {
     "duration": 0.027888,
     "end_time": "2023-05-29T17:25:20.347228",
     "exception": false,
     "start_time": "2023-05-29T17:25:20.319340",
     "status": "completed"
    },
    "tags": []
   },
   "outputs": [],
   "source": [
    "# Save test predictions to file\n",
    "output = pd.DataFrame({'Id': X_test.index,\n",
    "                       'SalePrice': preds_test})\n",
    "output.to_csv('submission.csv', index=False)"
   ]
  },
  {
   "cell_type": "markdown",
   "id": "f0c74143",
   "metadata": {
    "papermill": {
     "duration": 0.010172,
     "end_time": "2023-05-29T17:25:20.368222",
     "exception": false,
     "start_time": "2023-05-29T17:25:20.358050",
     "status": "completed"
    },
    "tags": []
   },
   "source": [
    "# Submit your results\n",
    "\n",
    "Once you have successfully completed Step 4, you're ready to submit your results to the leaderboard!  (_You also learned how to do this in the previous exercise.  If you need a reminder of how to do this, please use the instructions below._)  \n",
    "\n",
    "First, you'll need to join the competition if you haven't already.  So open a new window by clicking on [this link](https://www.kaggle.com/c/home-data-for-ml-course).  Then click on the **Join Competition** button.\n",
    "\n",
    "![join competition image](https://storage.googleapis.com/kaggle-media/learn/images/wLmFtH3.png)\n",
    "\n",
    "Next, follow the instructions below:\n",
    "1. Begin by clicking on the **Save Version** button in the top right corner of the window.  This will generate a pop-up window.  \n",
    "2. Ensure that the **Save and Run All** option is selected, and then click on the **Save** button.\n",
    "3. This generates a window in the bottom left corner of the notebook.  After it has finished running, click on the number to the right of the **Save Version** button.  This pulls up a list of versions on the right of the screen.  Click on the ellipsis **(...)** to the right of the most recent version, and select **Open in Viewer**.  This brings you into view mode of the same page. You will need to scroll down to get back to these instructions.\n",
    "4. Click on the **Data** tab near the top of the screen.  Then, click on the file you would like to submit, and click on the **Submit** button to submit your results to the leaderboard.\n",
    "\n",
    "You have now successfully submitted to the competition!\n",
    "\n",
    "If you want to keep working to improve your performance, select the **Edit** button in the top right of the screen. Then you can change your code and repeat the process. There's a lot of room to improve, and you will climb up the leaderboard as you work.\n",
    "\n",
    "\n",
    "# Keep going\n",
    "\n",
    "Move on to learn what **[categorical variables](https://www.kaggle.com/alexisbcook/categorical-variables)** are, along with how to incorporate them into your machine learning models.  Categorical variables are very common in real-world data, but you'll get an error if you try to plug them into your models without processing them first!"
   ]
  },
  {
   "cell_type": "markdown",
   "id": "00c42ef2",
   "metadata": {
    "papermill": {
     "duration": 0.010395,
     "end_time": "2023-05-29T17:25:20.389125",
     "exception": false,
     "start_time": "2023-05-29T17:25:20.378730",
     "status": "completed"
    },
    "tags": []
   },
   "source": [
    "---\n",
    "\n",
    "\n",
    "\n",
    "\n",
    "*Have questions or comments? Visit the [course discussion forum](https://www.kaggle.com/learn/intermediate-machine-learning/discussion) to chat with other learners.*"
   ]
  }
 ],
 "metadata": {
  "kernelspec": {
   "display_name": "Python 3",
   "language": "python",
   "name": "python3"
  },
  "language_info": {
   "codemirror_mode": {
    "name": "ipython",
    "version": 3
   },
   "file_extension": ".py",
   "mimetype": "text/x-python",
   "name": "python",
   "nbconvert_exporter": "python",
   "pygments_lexer": "ipython3",
   "version": "3.10.10"
  },
  "papermill": {
   "default_parameters": {},
   "duration": 17.61226,
   "end_time": "2023-05-29T17:25:21.321502",
   "environment_variables": {},
   "exception": null,
   "input_path": "__notebook__.ipynb",
   "output_path": "__notebook__.ipynb",
   "parameters": {},
   "start_time": "2023-05-29T17:25:03.709242",
   "version": "2.4.0"
  }
 },
 "nbformat": 4,
 "nbformat_minor": 5
}
