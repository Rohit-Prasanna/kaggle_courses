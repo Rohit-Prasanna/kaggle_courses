{
 "cells": [
  {
   "cell_type": "markdown",
   "id": "9d65ded6",
   "metadata": {
    "papermill": {
     "duration": 0.007728,
     "end_time": "2023-06-04T08:07:25.693357",
     "exception": false,
     "start_time": "2023-06-04T08:07:25.685629",
     "status": "completed"
    },
    "tags": []
   },
   "source": [
    "**This notebook is an exercise in the [Data Cleaning](https://www.kaggle.com/learn/data-cleaning) course.  You can reference the tutorial at [this link](https://www.kaggle.com/alexisbcook/inconsistent-data-entry).**\n",
    "\n",
    "---\n"
   ]
  },
  {
   "cell_type": "markdown",
   "id": "0267a6de",
   "metadata": {
    "papermill": {
     "duration": 0.006156,
     "end_time": "2023-06-04T08:07:25.706253",
     "exception": false,
     "start_time": "2023-06-04T08:07:25.700097",
     "status": "completed"
    },
    "tags": []
   },
   "source": [
    "In this exercise, you'll apply what you learned in the **Inconsistent data entry** tutorial.\n",
    "\n",
    "# Setup\n",
    "\n",
    "The questions below will give you feedback on your work. Run the following cell to set up the feedback system."
   ]
  },
  {
   "cell_type": "code",
   "execution_count": 1,
   "id": "ef541fee",
   "metadata": {
    "execution": {
     "iopub.execute_input": "2023-06-04T08:07:25.722121Z",
     "iopub.status.busy": "2023-06-04T08:07:25.721402Z",
     "iopub.status.idle": "2023-06-04T08:07:25.947407Z",
     "shell.execute_reply": "2023-06-04T08:07:25.945690Z"
    },
    "papermill": {
     "duration": 0.239611,
     "end_time": "2023-06-04T08:07:25.952752",
     "exception": false,
     "start_time": "2023-06-04T08:07:25.713141",
     "status": "completed"
    },
    "tags": []
   },
   "outputs": [
    {
     "name": "stdout",
     "output_type": "stream",
     "text": [
      "Setup Complete\n"
     ]
    }
   ],
   "source": [
    "from learntools.core import binder\n",
    "binder.bind(globals())\n",
    "from learntools.data_cleaning.ex5 import *\n",
    "print(\"Setup Complete\")"
   ]
  },
  {
   "cell_type": "markdown",
   "id": "c3a797df",
   "metadata": {
    "papermill": {
     "duration": 0.006346,
     "end_time": "2023-06-04T08:07:25.965837",
     "exception": false,
     "start_time": "2023-06-04T08:07:25.959491",
     "status": "completed"
    },
    "tags": []
   },
   "source": [
    "# Get our environment set up\n",
    "\n",
    "The first thing we'll need to do is load in the libraries and dataset we'll be using.  We use the same dataset from the tutorial."
   ]
  },
  {
   "cell_type": "code",
   "execution_count": 2,
   "id": "8f765554",
   "metadata": {
    "execution": {
     "iopub.execute_input": "2023-06-04T08:07:25.982748Z",
     "iopub.status.busy": "2023-06-04T08:07:25.981778Z",
     "iopub.status.idle": "2023-06-04T08:07:26.002069Z",
     "shell.execute_reply": "2023-06-04T08:07:26.000871Z"
    },
    "papermill": {
     "duration": 0.032012,
     "end_time": "2023-06-04T08:07:26.005178",
     "exception": false,
     "start_time": "2023-06-04T08:07:25.973166",
     "status": "completed"
    },
    "tags": []
   },
   "outputs": [],
   "source": [
    "# modules we'll use\n",
    "import pandas as pd\n",
    "import numpy as np\n",
    "\n",
    "# helpful modules\n",
    "import fuzzywuzzy\n",
    "from fuzzywuzzy import process\n",
    "import charset_normalizer\n",
    "\n",
    "# read in all our data\n",
    "professors = pd.read_csv(\"../input/pakistan-intellectual-capital/pakistan_intellectual_capital.csv\")\n",
    "\n",
    "# set seed for reproducibility\n",
    "np.random.seed(0)"
   ]
  },
  {
   "cell_type": "markdown",
   "id": "de09fa2f",
   "metadata": {
    "papermill": {
     "duration": 0.008131,
     "end_time": "2023-06-04T08:07:26.020180",
     "exception": false,
     "start_time": "2023-06-04T08:07:26.012049",
     "status": "completed"
    },
    "tags": []
   },
   "source": [
    "Next, we'll redo all of the work that we did in the tutorial."
   ]
  },
  {
   "cell_type": "code",
   "execution_count": 3,
   "id": "f5a2dee4",
   "metadata": {
    "execution": {
     "iopub.execute_input": "2023-06-04T08:07:26.035378Z",
     "iopub.status.busy": "2023-06-04T08:07:26.034880Z",
     "iopub.status.idle": "2023-06-04T08:07:26.052904Z",
     "shell.execute_reply": "2023-06-04T08:07:26.051368Z"
    },
    "papermill": {
     "duration": 0.028665,
     "end_time": "2023-06-04T08:07:26.055458",
     "exception": false,
     "start_time": "2023-06-04T08:07:26.026793",
     "status": "completed"
    },
    "tags": []
   },
   "outputs": [
    {
     "name": "stdout",
     "output_type": "stream",
     "text": [
      "All done!\n"
     ]
    }
   ],
   "source": [
    "# convert to lower case\n",
    "professors['Country'] = professors['Country'].str.lower()\n",
    "# remove trailing white spaces\n",
    "professors['Country'] = professors['Country'].str.strip()\n",
    "\n",
    "# get the top 10 closest matches to \"south korea\"\n",
    "countries = professors['Country'].unique()\n",
    "matches = fuzzywuzzy.process.extract(\"south korea\", countries, limit=10, scorer=fuzzywuzzy.fuzz.token_sort_ratio)\n",
    "\n",
    "def replace_matches_in_column(df, column, string_to_match, min_ratio = 47):\n",
    "    # get a list of unique strings\n",
    "    strings = df[column].unique()\n",
    "    \n",
    "    # get the top 10 closest matches to our input string\n",
    "    matches = fuzzywuzzy.process.extract(string_to_match, strings, \n",
    "                                         limit=10, scorer=fuzzywuzzy.fuzz.token_sort_ratio)\n",
    "\n",
    "    # only get matches with a ratio > 90\n",
    "    close_matches = [matches[0] for matches in matches if matches[1] >= min_ratio]\n",
    "\n",
    "    # get the rows of all the close matches in our dataframe\n",
    "    rows_with_matches = df[column].isin(close_matches)\n",
    "\n",
    "    # replace all rows with close matches with the input matches \n",
    "    df.loc[rows_with_matches, column] = string_to_match\n",
    "    \n",
    "    # let us know the function's done\n",
    "    print(\"All done!\")\n",
    "    \n",
    "replace_matches_in_column(df=professors, column='Country', string_to_match=\"south korea\")\n",
    "countries = professors['Country'].unique()"
   ]
  },
  {
   "cell_type": "markdown",
   "id": "f55d796b",
   "metadata": {
    "papermill": {
     "duration": 0.0069,
     "end_time": "2023-06-04T08:07:26.069101",
     "exception": false,
     "start_time": "2023-06-04T08:07:26.062201",
     "status": "completed"
    },
    "tags": []
   },
   "source": [
    "# 1) Examine another column\n",
    "\n",
    "Write code below to take a look at all the unique values in the \"Graduated from\" column."
   ]
  },
  {
   "cell_type": "code",
   "execution_count": 4,
   "id": "498e6b98",
   "metadata": {
    "execution": {
     "iopub.execute_input": "2023-06-04T08:07:26.085056Z",
     "iopub.status.busy": "2023-06-04T08:07:26.084440Z",
     "iopub.status.idle": "2023-06-04T08:07:26.089256Z",
     "shell.execute_reply": "2023-06-04T08:07:26.088380Z"
    },
    "papermill": {
     "duration": 0.015718,
     "end_time": "2023-06-04T08:07:26.091711",
     "exception": false,
     "start_time": "2023-06-04T08:07:26.075993",
     "status": "completed"
    },
    "tags": []
   },
   "outputs": [],
   "source": [
    "# TODO: Your code here\n",
    "countries = professors['Graduated from'].unique()"
   ]
  },
  {
   "cell_type": "markdown",
   "id": "6d5062b6",
   "metadata": {
    "papermill": {
     "duration": 0.006475,
     "end_time": "2023-06-04T08:07:26.105076",
     "exception": false,
     "start_time": "2023-06-04T08:07:26.098601",
     "status": "completed"
    },
    "tags": []
   },
   "source": [
    "Do you notice any inconsistencies in the data?  Can any of the inconsistencies in the data be fixed by removing white spaces at the beginning and end of cells?\n",
    "\n",
    "Once you have answered these questions, run the code cell below to get credit for your work."
   ]
  },
  {
   "cell_type": "code",
   "execution_count": 5,
   "id": "b2b8a983",
   "metadata": {
    "execution": {
     "iopub.execute_input": "2023-06-04T08:07:26.121178Z",
     "iopub.status.busy": "2023-06-04T08:07:26.120535Z",
     "iopub.status.idle": "2023-06-04T08:07:26.128990Z",
     "shell.execute_reply": "2023-06-04T08:07:26.128050Z"
    },
    "papermill": {
     "duration": 0.019588,
     "end_time": "2023-06-04T08:07:26.131606",
     "exception": false,
     "start_time": "2023-06-04T08:07:26.112018",
     "status": "completed"
    },
    "tags": []
   },
   "outputs": [
    {
     "data": {
      "application/javascript": [
       "parent.postMessage({\"jupyterEvent\": \"custom.exercise_interaction\", \"data\": {\"outcomeType\": 1, \"valueTowardsCompletion\": 0.3333333333333333, \"interactionType\": 1, \"questionType\": 4, \"questionId\": \"1_ExamineProvince\", \"learnToolsVersion\": \"0.3.4\", \"failureMessage\": \"\", \"exceptionClass\": \"\", \"trace\": \"\"}}, \"*\")"
      ],
      "text/plain": [
       "<IPython.core.display.Javascript object>"
      ]
     },
     "metadata": {},
     "output_type": "display_data"
    },
    {
     "data": {
      "text/markdown": [
       "<span style=\"color:#33cc33\">Correct:</span> \n",
       "\n",
       "There are inconsistencies that can be fixed by removing white spaces at the beginning and end of cells.  For instance, \"University of Central Florida\" and \" University of Central Florida\" both appear in the column."
      ],
      "text/plain": [
       "Correct: \n",
       "\n",
       "There are inconsistencies that can be fixed by removing white spaces at the beginning and end of cells.  For instance, \"University of Central Florida\" and \" University of Central Florida\" both appear in the column."
      ]
     },
     "metadata": {},
     "output_type": "display_data"
    }
   ],
   "source": [
    "# Check your answer (Run this code cell to receive credit!)\n",
    "q1.check()"
   ]
  },
  {
   "cell_type": "code",
   "execution_count": 6,
   "id": "0bc81413",
   "metadata": {
    "execution": {
     "iopub.execute_input": "2023-06-04T08:07:26.147958Z",
     "iopub.status.busy": "2023-06-04T08:07:26.147360Z",
     "iopub.status.idle": "2023-06-04T08:07:26.150958Z",
     "shell.execute_reply": "2023-06-04T08:07:26.150192Z"
    },
    "papermill": {
     "duration": 0.014407,
     "end_time": "2023-06-04T08:07:26.153144",
     "exception": false,
     "start_time": "2023-06-04T08:07:26.138737",
     "status": "completed"
    },
    "tags": []
   },
   "outputs": [],
   "source": [
    "# Line below will give you a hint\n",
    "#q1.hint()"
   ]
  },
  {
   "cell_type": "markdown",
   "id": "7c00f5f0",
   "metadata": {
    "papermill": {
     "duration": 0.006707,
     "end_time": "2023-06-04T08:07:26.166949",
     "exception": false,
     "start_time": "2023-06-04T08:07:26.160242",
     "status": "completed"
    },
    "tags": []
   },
   "source": [
    "# 2) Do some text pre-processing\n",
    "\n",
    "Convert every entry in the \"Graduated from\" column in the `professors` DataFrame to remove white spaces at the beginning and end of cells."
   ]
  },
  {
   "cell_type": "code",
   "execution_count": 7,
   "id": "a1c0d8c1",
   "metadata": {
    "execution": {
     "iopub.execute_input": "2023-06-04T08:07:26.183460Z",
     "iopub.status.busy": "2023-06-04T08:07:26.182790Z",
     "iopub.status.idle": "2023-06-04T08:07:26.199122Z",
     "shell.execute_reply": "2023-06-04T08:07:26.197707Z"
    },
    "papermill": {
     "duration": 0.02773,
     "end_time": "2023-06-04T08:07:26.201848",
     "exception": false,
     "start_time": "2023-06-04T08:07:26.174118",
     "status": "completed"
    },
    "tags": []
   },
   "outputs": [
    {
     "data": {
      "application/javascript": [
       "parent.postMessage({\"jupyterEvent\": \"custom.exercise_interaction\", \"data\": {\"outcomeType\": 1, \"valueTowardsCompletion\": 0.3333333333333333, \"interactionType\": 1, \"questionType\": 1, \"questionId\": \"2_TextProcessing\", \"learnToolsVersion\": \"0.3.4\", \"failureMessage\": \"\", \"exceptionClass\": \"\", \"trace\": \"\"}}, \"*\")"
      ],
      "text/plain": [
       "<IPython.core.display.Javascript object>"
      ]
     },
     "metadata": {},
     "output_type": "display_data"
    },
    {
     "data": {
      "text/markdown": [
       "<span style=\"color:#33cc33\">Correct</span>"
      ],
      "text/plain": [
       "Correct"
      ]
     },
     "metadata": {},
     "output_type": "display_data"
    }
   ],
   "source": [
    "# TODO: Your code here\n",
    "professors['Graduated from'] = professors['Graduated from'].str.strip()\n",
    "\n",
    "# Check your answer\n",
    "q2.check()"
   ]
  },
  {
   "cell_type": "code",
   "execution_count": 8,
   "id": "2d963495",
   "metadata": {
    "execution": {
     "iopub.execute_input": "2023-06-04T08:07:26.218943Z",
     "iopub.status.busy": "2023-06-04T08:07:26.218554Z",
     "iopub.status.idle": "2023-06-04T08:07:26.223656Z",
     "shell.execute_reply": "2023-06-04T08:07:26.222384Z"
    },
    "papermill": {
     "duration": 0.016691,
     "end_time": "2023-06-04T08:07:26.226219",
     "exception": false,
     "start_time": "2023-06-04T08:07:26.209528",
     "status": "completed"
    },
    "tags": []
   },
   "outputs": [],
   "source": [
    "# Lines below will give you a hint or solution code\n",
    "#q2.hint()\n",
    "#q2.solution()"
   ]
  },
  {
   "cell_type": "markdown",
   "id": "7c8d5e78",
   "metadata": {
    "papermill": {
     "duration": 0.007095,
     "end_time": "2023-06-04T08:07:26.240832",
     "exception": false,
     "start_time": "2023-06-04T08:07:26.233737",
     "status": "completed"
    },
    "tags": []
   },
   "source": [
    "# 3) Continue working with countries\n",
    "\n",
    "In the tutorial, we focused on cleaning up inconsistencies in the \"Country\" column.  Run the code cell below to view the list of unique values that we ended with."
   ]
  },
  {
   "cell_type": "code",
   "execution_count": 9,
   "id": "604f2fa9",
   "metadata": {
    "execution": {
     "iopub.execute_input": "2023-06-04T08:07:26.258394Z",
     "iopub.status.busy": "2023-06-04T08:07:26.257411Z",
     "iopub.status.idle": "2023-06-04T08:07:26.266633Z",
     "shell.execute_reply": "2023-06-04T08:07:26.265072Z"
    },
    "papermill": {
     "duration": 0.02089,
     "end_time": "2023-06-04T08:07:26.269353",
     "exception": false,
     "start_time": "2023-06-04T08:07:26.248463",
     "status": "completed"
    },
    "tags": []
   },
   "outputs": [
    {
     "data": {
      "text/plain": [
       "array(['australia', 'austria', 'canada', 'china', 'finland', 'france',\n",
       "       'germany', 'greece', 'hongkong', 'ireland', 'italy', 'japan',\n",
       "       'macau', 'malaysia', 'mauritius', 'netherland', 'new zealand',\n",
       "       'norway', 'pakistan', 'portugal', 'russian federation',\n",
       "       'saudi arabia', 'scotland', 'singapore', 'south korea', 'spain',\n",
       "       'sweden', 'thailand', 'turkey', 'uk', 'urbana', 'usa', 'usofa'],\n",
       "      dtype=object)"
      ]
     },
     "execution_count": 9,
     "metadata": {},
     "output_type": "execute_result"
    }
   ],
   "source": [
    "# get all the unique values in the 'City' column\n",
    "countries = professors['Country'].unique()\n",
    "\n",
    "# sort them alphabetically and then take a closer look\n",
    "countries.sort()\n",
    "countries"
   ]
  },
  {
   "cell_type": "markdown",
   "id": "f07e9862",
   "metadata": {
    "papermill": {
     "duration": 0.007407,
     "end_time": "2023-06-04T08:07:26.284481",
     "exception": false,
     "start_time": "2023-06-04T08:07:26.277074",
     "status": "completed"
    },
    "tags": []
   },
   "source": [
    "Take another look at the \"Country\" column and see if there's any more data cleaning we need to do.\n",
    "\n",
    "It looks like 'usa' and 'usofa' should be the same country.  Correct the \"Country\" column in the dataframe to replace 'usofa' with 'usa'.\n",
    "\n",
    "**Use the most recent version of the DataFrame (with the whitespaces at the beginning and end of cells removed) from question 2.**"
   ]
  },
  {
   "cell_type": "code",
   "execution_count": 10,
   "id": "f9ae41d5",
   "metadata": {
    "execution": {
     "iopub.execute_input": "2023-06-04T08:07:26.301744Z",
     "iopub.status.busy": "2023-06-04T08:07:26.301354Z",
     "iopub.status.idle": "2023-06-04T08:07:26.316273Z",
     "shell.execute_reply": "2023-06-04T08:07:26.315285Z"
    },
    "papermill": {
     "duration": 0.026224,
     "end_time": "2023-06-04T08:07:26.318406",
     "exception": false,
     "start_time": "2023-06-04T08:07:26.292182",
     "status": "completed"
    },
    "tags": []
   },
   "outputs": [
    {
     "name": "stdout",
     "output_type": "stream",
     "text": [
      "All done!\n"
     ]
    },
    {
     "data": {
      "application/javascript": [
       "parent.postMessage({\"jupyterEvent\": \"custom.exercise_interaction\", \"data\": {\"outcomeType\": 1, \"valueTowardsCompletion\": 0.3333333333333333, \"interactionType\": 1, \"questionType\": 1, \"questionId\": \"3_WorkingWithCities\", \"learnToolsVersion\": \"0.3.4\", \"failureMessage\": \"\", \"exceptionClass\": \"\", \"trace\": \"\"}}, \"*\")"
      ],
      "text/plain": [
       "<IPython.core.display.Javascript object>"
      ]
     },
     "metadata": {},
     "output_type": "display_data"
    },
    {
     "data": {
      "text/markdown": [
       "<span style=\"color:#33cc33\">Correct</span>"
      ],
      "text/plain": [
       "Correct"
      ]
     },
     "metadata": {},
     "output_type": "display_data"
    }
   ],
   "source": [
    "# TODO: Your code here!\n",
    "matches = fuzzywuzzy.process.extract(\"usa\", countries, limit=10, scorer=fuzzywuzzy.fuzz.token_sort_ratio)\n",
    "replace_matches_in_column(df=professors, column='Country', string_to_match=\"usa\", min_ratio=70)\n",
    "\n",
    "# Check your answer\n",
    "q3.check()"
   ]
  },
  {
   "cell_type": "code",
   "execution_count": 11,
   "id": "391448cc",
   "metadata": {
    "execution": {
     "iopub.execute_input": "2023-06-04T08:07:26.337103Z",
     "iopub.status.busy": "2023-06-04T08:07:26.336365Z",
     "iopub.status.idle": "2023-06-04T08:07:26.340281Z",
     "shell.execute_reply": "2023-06-04T08:07:26.339472Z"
    },
    "papermill": {
     "duration": 0.016042,
     "end_time": "2023-06-04T08:07:26.342686",
     "exception": false,
     "start_time": "2023-06-04T08:07:26.326644",
     "status": "completed"
    },
    "tags": []
   },
   "outputs": [],
   "source": [
    "# Lines below will give you a hint or solution code\n",
    "#q3.hint()\n",
    "#q3.solution()"
   ]
  },
  {
   "cell_type": "markdown",
   "id": "e064cab8",
   "metadata": {
    "papermill": {
     "duration": 0.008159,
     "end_time": "2023-06-04T08:07:26.359277",
     "exception": false,
     "start_time": "2023-06-04T08:07:26.351118",
     "status": "completed"
    },
    "tags": []
   },
   "source": [
    "# Congratulations!\n",
    "\n",
    "Congratulations for completing the **Data Cleaning** course on Kaggle Learn!\n",
    "\n",
    "To practice your new skills, you're encouraged to download and investigate some of [Kaggle's Datasets](https://www.kaggle.com/datasets)."
   ]
  },
  {
   "cell_type": "markdown",
   "id": "09f50091",
   "metadata": {
    "papermill": {
     "duration": 0.007886,
     "end_time": "2023-06-04T08:07:26.375819",
     "exception": false,
     "start_time": "2023-06-04T08:07:26.367933",
     "status": "completed"
    },
    "tags": []
   },
   "source": [
    "---\n",
    "\n",
    "\n",
    "\n",
    "\n",
    "*Have questions or comments? Visit the [course discussion forum](https://www.kaggle.com/learn/data-cleaning/discussion) to chat with other learners.*"
   ]
  }
 ],
 "metadata": {
  "kernelspec": {
   "display_name": "Python 3",
   "language": "python",
   "name": "python3"
  },
  "language_info": {
   "codemirror_mode": {
    "name": "ipython",
    "version": 3
   },
   "file_extension": ".py",
   "mimetype": "text/x-python",
   "name": "python",
   "nbconvert_exporter": "python",
   "pygments_lexer": "ipython3",
   "version": "3.10.10"
  },
  "papermill": {
   "default_parameters": {},
   "duration": 14.826512,
   "end_time": "2023-06-04T08:07:27.306208",
   "environment_variables": {},
   "exception": null,
   "input_path": "__notebook__.ipynb",
   "output_path": "__notebook__.ipynb",
   "parameters": {},
   "start_time": "2023-06-04T08:07:12.479696",
   "version": "2.4.0"
  }
 },
 "nbformat": 4,
 "nbformat_minor": 5
}
