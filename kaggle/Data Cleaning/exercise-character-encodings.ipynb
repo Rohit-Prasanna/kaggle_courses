{
 "cells": [
  {
   "cell_type": "markdown",
   "id": "8cc12c24",
   "metadata": {
    "papermill": {
     "duration": 0.006607,
     "end_time": "2023-06-04T08:01:48.439710",
     "exception": false,
     "start_time": "2023-06-04T08:01:48.433103",
     "status": "completed"
    },
    "tags": []
   },
   "source": [
    "**This notebook is an exercise in the [Data Cleaning](https://www.kaggle.com/learn/data-cleaning) course.  You can reference the tutorial at [this link](https://www.kaggle.com/alexisbcook/character-encodings).**\n",
    "\n",
    "---\n"
   ]
  },
  {
   "cell_type": "markdown",
   "id": "6492c326",
   "metadata": {
    "papermill": {
     "duration": 0.005554,
     "end_time": "2023-06-04T08:01:48.451411",
     "exception": false,
     "start_time": "2023-06-04T08:01:48.445857",
     "status": "completed"
    },
    "tags": []
   },
   "source": [
    "In this exercise, you'll apply what you learned in the **Character encodings** tutorial.\n",
    "\n",
    "# Setup\n",
    "\n",
    "The questions below will give you feedback on your work. Run the following cell to set up the feedback system."
   ]
  },
  {
   "cell_type": "code",
   "execution_count": 1,
   "id": "877e1fff",
   "metadata": {
    "execution": {
     "iopub.execute_input": "2023-06-04T08:01:48.465201Z",
     "iopub.status.busy": "2023-06-04T08:01:48.464447Z",
     "iopub.status.idle": "2023-06-04T08:01:48.562493Z",
     "shell.execute_reply": "2023-06-04T08:01:48.561426Z"
    },
    "papermill": {
     "duration": 0.108261,
     "end_time": "2023-06-04T08:01:48.565531",
     "exception": false,
     "start_time": "2023-06-04T08:01:48.457270",
     "status": "completed"
    },
    "tags": []
   },
   "outputs": [
    {
     "name": "stdout",
     "output_type": "stream",
     "text": [
      "Setup Complete\n"
     ]
    }
   ],
   "source": [
    "from learntools.core import binder\n",
    "binder.bind(globals())\n",
    "from learntools.data_cleaning.ex4 import *\n",
    "print(\"Setup Complete\")"
   ]
  },
  {
   "cell_type": "markdown",
   "id": "ab62b499",
   "metadata": {
    "papermill": {
     "duration": 0.005771,
     "end_time": "2023-06-04T08:01:48.577601",
     "exception": false,
     "start_time": "2023-06-04T08:01:48.571830",
     "status": "completed"
    },
    "tags": []
   },
   "source": [
    "# Get our environment set up\n",
    "\n",
    "The first thing we'll need to do is load in the libraries we'll be using."
   ]
  },
  {
   "cell_type": "code",
   "execution_count": 2,
   "id": "fdb94f33",
   "metadata": {
    "execution": {
     "iopub.execute_input": "2023-06-04T08:01:48.591264Z",
     "iopub.status.busy": "2023-06-04T08:01:48.590858Z",
     "iopub.status.idle": "2023-06-04T08:01:48.596387Z",
     "shell.execute_reply": "2023-06-04T08:01:48.595227Z"
    },
    "papermill": {
     "duration": 0.015559,
     "end_time": "2023-06-04T08:01:48.599066",
     "exception": false,
     "start_time": "2023-06-04T08:01:48.583507",
     "status": "completed"
    },
    "tags": []
   },
   "outputs": [],
   "source": [
    "# modules we'll use\n",
    "import pandas as pd\n",
    "import numpy as np\n",
    "\n",
    "# helpful character encoding module\n",
    "import charset_normalizer\n",
    "\n",
    "# set seed for reproducibility\n",
    "np.random.seed(0)"
   ]
  },
  {
   "cell_type": "markdown",
   "id": "6711f677",
   "metadata": {
    "papermill": {
     "duration": 0.007272,
     "end_time": "2023-06-04T08:01:48.612303",
     "exception": false,
     "start_time": "2023-06-04T08:01:48.605031",
     "status": "completed"
    },
    "tags": []
   },
   "source": [
    "# 1) What are encodings?\n",
    "\n",
    "You're working with a dataset composed of bytes.  Run the code cell below to print a sample entry."
   ]
  },
  {
   "cell_type": "code",
   "execution_count": 3,
   "id": "d0fdd7d0",
   "metadata": {
    "execution": {
     "iopub.execute_input": "2023-06-04T08:01:48.625872Z",
     "iopub.status.busy": "2023-06-04T08:01:48.625493Z",
     "iopub.status.idle": "2023-06-04T08:01:48.631320Z",
     "shell.execute_reply": "2023-06-04T08:01:48.630232Z"
    },
    "papermill": {
     "duration": 0.015656,
     "end_time": "2023-06-04T08:01:48.633896",
     "exception": false,
     "start_time": "2023-06-04T08:01:48.618240",
     "status": "completed"
    },
    "tags": []
   },
   "outputs": [
    {
     "name": "stdout",
     "output_type": "stream",
     "text": [
      "b'\\xa7A\\xa6n'\n",
      "data type: <class 'bytes'>\n"
     ]
    }
   ],
   "source": [
    "sample_entry = b'\\xa7A\\xa6n'\n",
    "print(sample_entry)\n",
    "print('data type:', type(sample_entry))"
   ]
  },
  {
   "cell_type": "markdown",
   "id": "1a0d462f",
   "metadata": {
    "papermill": {
     "duration": 0.006283,
     "end_time": "2023-06-04T08:01:48.646221",
     "exception": false,
     "start_time": "2023-06-04T08:01:48.639938",
     "status": "completed"
    },
    "tags": []
   },
   "source": [
    "You notice that it doesn't use the standard UTF-8 encoding. \n",
    "\n",
    "Use the next code cell to create a variable `new_entry` that changes the encoding from `\"big5-tw\"` to `\"utf-8\"`.  `new_entry` should have the bytes datatype."
   ]
  },
  {
   "cell_type": "code",
   "execution_count": 4,
   "id": "3af3fd65",
   "metadata": {
    "execution": {
     "iopub.execute_input": "2023-06-04T08:01:48.660162Z",
     "iopub.status.busy": "2023-06-04T08:01:48.659743Z",
     "iopub.status.idle": "2023-06-04T08:01:48.671273Z",
     "shell.execute_reply": "2023-06-04T08:01:48.670133Z"
    },
    "papermill": {
     "duration": 0.021884,
     "end_time": "2023-06-04T08:01:48.674208",
     "exception": false,
     "start_time": "2023-06-04T08:01:48.652324",
     "status": "completed"
    },
    "tags": []
   },
   "outputs": [
    {
     "data": {
      "application/javascript": [
       "parent.postMessage({\"jupyterEvent\": \"custom.exercise_interaction\", \"data\": {\"outcomeType\": 1, \"valueTowardsCompletion\": 0.3333333333333333, \"interactionType\": 1, \"questionType\": 1, \"questionId\": \"1_EncodingsIntro\", \"learnToolsVersion\": \"0.3.4\", \"failureMessage\": \"\", \"exceptionClass\": \"\", \"trace\": \"\"}}, \"*\")"
      ],
      "text/plain": [
       "<IPython.core.display.Javascript object>"
      ]
     },
     "metadata": {},
     "output_type": "display_data"
    },
    {
     "data": {
      "text/markdown": [
       "<span style=\"color:#33cc33\">Correct</span>"
      ],
      "text/plain": [
       "Correct"
      ]
     },
     "metadata": {},
     "output_type": "display_data"
    }
   ],
   "source": [
    "before = sample_entry.decode(\"big5-tw\")\n",
    "new_entry = before.encode()\n",
    "# Check your answer\n",
    "q1.check()"
   ]
  },
  {
   "cell_type": "code",
   "execution_count": 5,
   "id": "f85c7025",
   "metadata": {
    "execution": {
     "iopub.execute_input": "2023-06-04T08:01:48.689272Z",
     "iopub.status.busy": "2023-06-04T08:01:48.688837Z",
     "iopub.status.idle": "2023-06-04T08:01:48.693822Z",
     "shell.execute_reply": "2023-06-04T08:01:48.692407Z"
    },
    "papermill": {
     "duration": 0.015322,
     "end_time": "2023-06-04T08:01:48.696222",
     "exception": false,
     "start_time": "2023-06-04T08:01:48.680900",
     "status": "completed"
    },
    "tags": []
   },
   "outputs": [],
   "source": [
    "# Lines below will give you a hint or solution code\n",
    "#q1.hint()\n",
    "#q1.solution()"
   ]
  },
  {
   "cell_type": "markdown",
   "id": "ae296f17",
   "metadata": {
    "papermill": {
     "duration": 0.00651,
     "end_time": "2023-06-04T08:01:48.709204",
     "exception": false,
     "start_time": "2023-06-04T08:01:48.702694",
     "status": "completed"
    },
    "tags": []
   },
   "source": [
    "# 2) Reading in files with encoding problems\n",
    "\n",
    "Use the code cell below to read in this file at path `\"../input/fatal-police-shootings-in-the-us/PoliceKillingsUS.csv\"`.  \n",
    "\n",
    "Figure out what the correct encoding should be and read in the file to a DataFrame `police_killings`."
   ]
  },
  {
   "cell_type": "code",
   "execution_count": 6,
   "id": "bb93ba51",
   "metadata": {
    "execution": {
     "iopub.execute_input": "2023-06-04T08:01:48.724018Z",
     "iopub.status.busy": "2023-06-04T08:01:48.723614Z",
     "iopub.status.idle": "2023-06-04T08:01:48.753307Z",
     "shell.execute_reply": "2023-06-04T08:01:48.751999Z"
    },
    "papermill": {
     "duration": 0.039955,
     "end_time": "2023-06-04T08:01:48.755646",
     "exception": false,
     "start_time": "2023-06-04T08:01:48.715691",
     "status": "completed"
    },
    "tags": []
   },
   "outputs": [
    {
     "data": {
      "application/javascript": [
       "parent.postMessage({\"jupyterEvent\": \"custom.exercise_interaction\", \"data\": {\"outcomeType\": 1, \"valueTowardsCompletion\": 0.3333333333333333, \"interactionType\": 1, \"questionType\": 1, \"questionId\": \"2_ReadIn\", \"learnToolsVersion\": \"0.3.4\", \"failureMessage\": \"\", \"exceptionClass\": \"\", \"trace\": \"\"}}, \"*\")"
      ],
      "text/plain": [
       "<IPython.core.display.Javascript object>"
      ]
     },
     "metadata": {},
     "output_type": "display_data"
    },
    {
     "data": {
      "text/markdown": [
       "<span style=\"color:#33cc33\">Correct</span>"
      ],
      "text/plain": [
       "Correct"
      ]
     },
     "metadata": {},
     "output_type": "display_data"
    }
   ],
   "source": [
    "# TODO: Load in the DataFrame correctly.\n",
    "police_killings = pd.read_csv(\"../input/fatal-police-shootings-in-the-us/PoliceKillingsUS.csv\", encoding='Windows-1252')\n",
    "\n",
    "# Check your answer\n",
    "q2.check()"
   ]
  },
  {
   "cell_type": "markdown",
   "id": "d39991b3",
   "metadata": {
    "papermill": {
     "duration": 0.006485,
     "end_time": "2023-06-04T08:01:48.768829",
     "exception": false,
     "start_time": "2023-06-04T08:01:48.762344",
     "status": "completed"
    },
    "tags": []
   },
   "source": [
    "Feel free to use any additional code cells for supplemental work.  To get credit for finishing this question, you'll need to run `q2.check()` and get a result of **Correct**."
   ]
  },
  {
   "cell_type": "code",
   "execution_count": 7,
   "id": "2b6bc2f9",
   "metadata": {
    "execution": {
     "iopub.execute_input": "2023-06-04T08:01:48.784555Z",
     "iopub.status.busy": "2023-06-04T08:01:48.783672Z",
     "iopub.status.idle": "2023-06-04T08:01:48.788454Z",
     "shell.execute_reply": "2023-06-04T08:01:48.787372Z"
    },
    "papermill": {
     "duration": 0.015399,
     "end_time": "2023-06-04T08:01:48.790897",
     "exception": false,
     "start_time": "2023-06-04T08:01:48.775498",
     "status": "completed"
    },
    "tags": []
   },
   "outputs": [],
   "source": [
    "# (Optional) Use this code cell for any additional work."
   ]
  },
  {
   "cell_type": "code",
   "execution_count": 8,
   "id": "81e883fb",
   "metadata": {
    "execution": {
     "iopub.execute_input": "2023-06-04T08:01:48.807008Z",
     "iopub.status.busy": "2023-06-04T08:01:48.806202Z",
     "iopub.status.idle": "2023-06-04T08:01:48.810969Z",
     "shell.execute_reply": "2023-06-04T08:01:48.810148Z"
    },
    "papermill": {
     "duration": 0.015623,
     "end_time": "2023-06-04T08:01:48.813434",
     "exception": false,
     "start_time": "2023-06-04T08:01:48.797811",
     "status": "completed"
    },
    "tags": []
   },
   "outputs": [],
   "source": [
    "# Lines below will give you a hint or solution code\n",
    "#q2.hint()\n",
    "#q2.solution()"
   ]
  },
  {
   "cell_type": "markdown",
   "id": "c6dd09f3",
   "metadata": {
    "papermill": {
     "duration": 0.006828,
     "end_time": "2023-06-04T08:01:48.827261",
     "exception": false,
     "start_time": "2023-06-04T08:01:48.820433",
     "status": "completed"
    },
    "tags": []
   },
   "source": [
    "# 3) Saving your files with UTF-8 encoding\n",
    "\n",
    "Save a version of the police killings dataset to CSV with UTF-8 encoding.  Your answer will be marked correct after saving this file.  \n",
    "\n",
    "Note: When using the `to_csv()` method, supply only the name of the file (e.g., `\"my_file.csv\"`).  This saves the file at the filepath `\"/kaggle/working/my_file.csv\"`."
   ]
  },
  {
   "cell_type": "code",
   "execution_count": 9,
   "id": "4188e2fb",
   "metadata": {
    "execution": {
     "iopub.execute_input": "2023-06-04T08:01:48.843895Z",
     "iopub.status.busy": "2023-06-04T08:01:48.843118Z",
     "iopub.status.idle": "2023-06-04T08:01:48.901347Z",
     "shell.execute_reply": "2023-06-04T08:01:48.900534Z"
    },
    "papermill": {
     "duration": 0.068896,
     "end_time": "2023-06-04T08:01:48.903329",
     "exception": false,
     "start_time": "2023-06-04T08:01:48.834433",
     "status": "completed"
    },
    "tags": []
   },
   "outputs": [
    {
     "data": {
      "application/javascript": [
       "parent.postMessage({\"jupyterEvent\": \"custom.exercise_interaction\", \"data\": {\"outcomeType\": 1, \"valueTowardsCompletion\": 0.3333333333333333, \"interactionType\": 1, \"questionType\": 2, \"questionId\": \"3_SaveCSV\", \"learnToolsVersion\": \"0.3.4\", \"failureMessage\": \"\", \"exceptionClass\": \"\", \"trace\": \"\"}}, \"*\")"
      ],
      "text/plain": [
       "<IPython.core.display.Javascript object>"
      ]
     },
     "metadata": {},
     "output_type": "display_data"
    },
    {
     "data": {
      "text/markdown": [
       "<span style=\"color:#33cc33\">Correct</span>"
      ],
      "text/plain": [
       "Correct"
      ]
     },
     "metadata": {},
     "output_type": "display_data"
    }
   ],
   "source": [
    "# TODO: Save the police killings dataset to CSV\n",
    "police_killings.to_csv(\"my_file.csv\")\n",
    "\n",
    "# Check your answer\n",
    "q3.check()"
   ]
  },
  {
   "cell_type": "code",
   "execution_count": 10,
   "id": "aed30b9d",
   "metadata": {
    "execution": {
     "iopub.execute_input": "2023-06-04T08:01:48.920087Z",
     "iopub.status.busy": "2023-06-04T08:01:48.919059Z",
     "iopub.status.idle": "2023-06-04T08:01:48.923727Z",
     "shell.execute_reply": "2023-06-04T08:01:48.922513Z"
    },
    "papermill": {
     "duration": 0.015563,
     "end_time": "2023-06-04T08:01:48.926105",
     "exception": false,
     "start_time": "2023-06-04T08:01:48.910542",
     "status": "completed"
    },
    "tags": []
   },
   "outputs": [],
   "source": [
    "# Lines below will give you a hint or solution code\n",
    "#q3.hint()\n",
    "#q3.solution()"
   ]
  },
  {
   "cell_type": "markdown",
   "id": "edfaa973",
   "metadata": {
    "papermill": {
     "duration": 0.007101,
     "end_time": "2023-06-04T08:01:48.940622",
     "exception": false,
     "start_time": "2023-06-04T08:01:48.933521",
     "status": "completed"
    },
    "tags": []
   },
   "source": [
    "# (Optional) More practice\n",
    "\n",
    "Check out [this dataset of files in different character encodings](https://www.kaggle.com/rtatman/character-encoding-examples). Can you read in all the files with their original encodings and them save them out as UTF-8 files?\n",
    "\n",
    "If you have a file that's in UTF-8 but has just a couple of weird-looking characters in it, you can try out the [ftfy module](https://ftfy.readthedocs.io/en/latest/#) and see if it helps. \n",
    "\n",
    "# Keep going\n",
    "\n",
    "In the final lesson, learn how to [**clean up inconsistent text entries**](https://www.kaggle.com/alexisbcook/inconsistent-data-entry) in your dataset."
   ]
  },
  {
   "cell_type": "markdown",
   "id": "b248dde1",
   "metadata": {
    "papermill": {
     "duration": 0.007061,
     "end_time": "2023-06-04T08:01:48.955234",
     "exception": false,
     "start_time": "2023-06-04T08:01:48.948173",
     "status": "completed"
    },
    "tags": []
   },
   "source": [
    "---\n",
    "\n",
    "\n",
    "\n",
    "\n",
    "*Have questions or comments? Visit the [course discussion forum](https://www.kaggle.com/learn/data-cleaning/discussion) to chat with other learners.*"
   ]
  }
 ],
 "metadata": {
  "kernelspec": {
   "display_name": "Python 3",
   "language": "python",
   "name": "python3"
  },
  "language_info": {
   "codemirror_mode": {
    "name": "ipython",
    "version": 3
   },
   "file_extension": ".py",
   "mimetype": "text/x-python",
   "name": "python",
   "nbconvert_exporter": "python",
   "pygments_lexer": "ipython3",
   "version": "3.10.10"
  },
  "papermill": {
   "default_parameters": {},
   "duration": 14.397835,
   "end_time": "2023-06-04T08:01:49.884620",
   "environment_variables": {},
   "exception": null,
   "input_path": "__notebook__.ipynb",
   "output_path": "__notebook__.ipynb",
   "parameters": {},
   "start_time": "2023-06-04T08:01:35.486785",
   "version": "2.4.0"
  }
 },
 "nbformat": 4,
 "nbformat_minor": 5
}
